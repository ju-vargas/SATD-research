{
 "cells": [
  {
   "cell_type": "code",
   "execution_count": 1,
   "metadata": {
    "hideCode": false,
    "scrolled": true
   },
   "outputs": [],
   "source": [
    "import os \n",
    "import ipywidgets as widgets\n",
    "import matplotlib.pyplot as plt\n",
    "\n",
    "from IPython.display import clear_output,display, HTML\n",
    "from source.commonlib import pathlist as pl\n",
    "from source.commonlib import analise as an\n",
    "from source.commonlib import metric as mr\n",
    "from source.commonlib import analisegprof as agp\n",
    "from source.commonlib import graphics as graphs\n",
    "\n",
    "from source.models import matrix as mtx\n",
    "\n",
    "import numpy as np"
   ]
  },
  {
   "cell_type": "code",
   "execution_count": 2,
   "metadata": {
    "hideCode": false
   },
   "outputs": [],
   "source": [
    "#CONSTANTS\n",
    "VVCLOG_DIR =  \"\"\n",
    "CONFIG = ''\n",
    "\n",
    "#arrumar pra poder criar matriz sem parametro\n",
    "MATRIX = mtx.Matrix('') \n",
    "\n",
    "\n",
    "dropdown_global = widgets.Dropdown(options=\"\")"
   ]
  },
  {
   "cell_type": "code",
   "execution_count": 3,
   "metadata": {},
   "outputs": [],
   "source": [
    "output = widgets.Output()\n",
    "output2 = widgets.Output()"
   ]
  },
  {
   "cell_type": "code",
   "execution_count": 4,
   "metadata": {
    "hideCode": false
   },
   "outputs": [],
   "source": [
    "#FUNCTIONS BUTTON\n",
    "def on_button_clear_vvc_click(b):\n",
    "    with output:\n",
    "        clear_output()\n",
    "\n",
    "def on_button_vvc_print_click(b):\n",
    "    with output:\n",
    "\n",
    "        global VVCLOG_DIR\n",
    "        global MATRIX\n",
    "    \n",
    "        check_tags = []\n",
    "        if box1.value == True:\n",
    "            check_tags.append(box1.description)\n",
    "        if box2.value == True:\n",
    "            check_tags.append(box2.description)\n",
    "        if box3.value == True:\n",
    "            check_tags.append(box3.description)\n",
    "    \n",
    "        bd_tags = []\n",
    "        if box4.value == True:\n",
    "            bd_tags.append(box4.description)\n",
    "        if box5.value == True:\n",
    "            bd_tags.append(box5.description)\n",
    "        \n",
    "        color_tags = []\n",
    "        if box6.value == True:\n",
    "            color_tags.append(box6.description)\n",
    "        if box7.value == True:\n",
    "            color_tags.append(box7.description)\n",
    "    \n",
    "        if(VVCLOG_DIR != ''):\n",
    "            MATRIX = an.analise('vvc', dropdown_global.value, VVCLOG_DIR, CONFIG, check_tags, bd_tags, color_tags)  \n",
    "        \n",
    "\n"
   ]
  },
  {
   "cell_type": "code",
   "execution_count": 5,
   "metadata": {
    "hideCode": false,
    "hidePrompt": false
   },
   "outputs": [],
   "source": [
    "# widgets VVC \n",
    "def analise_vvc_print():\n",
    "    display(HTML(\"<h2>VVC</h2>\"))\n",
    "    display(container, container2)\n",
    "    display(buttons_vvc,output)\n",
    "\n",
    "def analise_gprof_print():\n",
    "    display(HTML(\"<h2>GPROF</h2>\"))\n",
    "    display(text_function)\n",
    "    display(text_class)\n",
    "    display(buttons_gprof)"
   ]
  },
  {
   "cell_type": "code",
   "execution_count": 6,
   "metadata": {
    "jupyter": {
     "source_hidden": true
    }
   },
   "outputs": [],
   "source": [
    "# ELEMENTS \n",
    "# Dropdown\n",
    "\n",
    "\n",
    "# Buttons\n",
    "botao_vvc = widgets.Button(description='Print')\n",
    "botao_vvc.on_click(on_button_vvc_print_click)\n",
    "botao_vvc_clear = widgets.Button(description='Clear')\n",
    "botao_vvc_clear.on_click(on_button_clear_vvc_click)\n",
    "\n",
    "#botao_gprof = widgets.Button(description='Print')\n",
    "#botao_gprof.on_click(on_button_gprof_print_click)\n",
    "#botao_gprof_clear = widgets.Button(description='Clear')\n",
    "#botao_gprof_clear.on_click(on_button_clear_gprof_click)\n",
    "\n",
    "buttons_vvc = widgets.HBox([botao_vvc, botao_vvc_clear])\n",
    "#buttons_gprof = widgets.HBox([botao_gprof, botao_gprof_clear])\n",
    "\n",
    "\n",
    "# Selection line1\n",
    "box1 = widgets.Checkbox(\n",
    "    description='Time',\n",
    "    indent=False,\n",
    "    disabled=False,\n",
    "    layout=widgets.Layout(width='auto', margin='5px'),\n",
    "    style={'description_width': 'initial'}\n",
    ")\n",
    "box2 = widgets.Checkbox(\n",
    "    description='Bitrate',\n",
    "    indent=False,\n",
    "    disabled=False,\n",
    "    layout=widgets.Layout(width='auto', margin ='5px'),\n",
    "    style={'description_width': 'initial'}\n",
    ")\n",
    "box3 = widgets.Checkbox(\n",
    "    description='PSNR',\n",
    "    indent=False,\n",
    "    disabled=False,\n",
    "    layout=widgets.Layout(width='auto', margin='5px'),\n",
    "    style={'description_width': 'initial'}\n",
    ")\n",
    "box4 = widgets.Checkbox(\n",
    "    description='BD-Rate',\n",
    "    indent=False,\n",
    "    disabled=False,\n",
    "    layout=widgets.Layout(width='auto', margin='5px'),\n",
    "    style={'description_width': 'initial'}\n",
    ")\n",
    "box5 = widgets.Checkbox(\n",
    "    description='BD-PSNR',\n",
    "    indent=False,\n",
    "    disabled=False,\n",
    "    layout=widgets.Layout(width='auto', margin='5px'),\n",
    "    style={'description_width': 'initial'}\n",
    ")\n",
    "\n",
    "\n",
    "#Selection line 2\n",
    "box6 = widgets.Checkbox(\n",
    "    description='Best values',\n",
    "    indent=False,\n",
    "    disabled=False,\n",
    "    layout=widgets.Layout(width='auto', margin='5px'),\n",
    "    style={'description_width': 'final'}\n",
    ")\n",
    "box7 = widgets.Checkbox(\n",
    "    description='Worst values',\n",
    "    indent=False,\n",
    "    disabled=False,\n",
    "    layout=widgets.Layout(width='auto', margin='5px'),\n",
    "    style={'description_width': 'final'}\n",
    ")\n",
    "\n",
    "#dropdown gprof\n",
    "#options_drop_gprof = ['1','2','3','4','5','6','7']\n",
    "#dropdown_gprof = widgets.Dropdown(options=options_drop_gprof)\n",
    "\n",
    "#FAZER FUNÇÃO E CLASSES SEREM DROPLISTS COM AS FUNÇÕES Q ESTÃO NO LOG\n",
    "#text box gprof\n",
    "text_function = widgets.Text(description='Função:', value='')\n",
    "text_class = widgets.Text(description='Classe:', value='')\n",
    "\n",
    "container = widgets.HBox([box1, box2, box3, box4, box5])\n",
    "container2 = widgets.HBox([box6, box7])"
   ]
  },
  {
   "cell_type": "code",
   "execution_count": 7,
   "metadata": {
    "jupyter": {
     "source_hidden": true
    }
   },
   "outputs": [],
   "source": [
    "#DISPLAY\n",
    "def display_drop(dir):\n",
    "\n",
    "    if (dir == ''):\n",
    "        options_drop = [\"\"]\n",
    "    else:              \n",
    "        options_drop = pl.list_matrices(\"-\", dir)\n",
    "        options_drop.remove(\"Precise\")\n",
    "        options_drop.sort()\n",
    "\n",
    "    return widgets.Dropdown(options=options_drop)"
   ]
  },
  {
   "cell_type": "code",
   "execution_count": 8,
   "metadata": {
    "jupyter": {
     "source_hidden": true
    }
   },
   "outputs": [],
   "source": [
    "def on_click_button_ok(b):\n",
    "    with output2: \n",
    "        global dropdown_global\n",
    "        global VVCLOG_DIR\n",
    "        global CONFIG\n",
    "\n",
    "        clear_output()\n",
    "        VVCLOG_DIR = path.value + \"/vvc_log/\"\n",
    "        CONFIG = toggle_config.value\n",
    "        \n",
    "        dropdown_global = display_drop(VVCLOG_DIR)\n",
    "        display(dropdown_global)\n",
    "\n",
    "   "
   ]
  },
  {
   "cell_type": "code",
   "execution_count": 9,
   "metadata": {
    "jupyter": {
     "source_hidden": true
    }
   },
   "outputs": [
    {
     "data": {
      "text/html": [
       "<h1>ANALISE</h1>"
      ],
      "text/plain": [
       "<IPython.core.display.HTML object>"
      ]
     },
     "metadata": {},
     "output_type": "display_data"
    },
    {
     "data": {
      "application/vnd.jupyter.widget-view+json": {
       "model_id": "10b68d0b524741e199643e4303e13ec9",
       "version_major": 2,
       "version_minor": 0
      },
      "text/plain": [
       "Text(value='', placeholder='path')"
      ]
     },
     "metadata": {},
     "output_type": "display_data"
    },
    {
     "data": {
      "application/vnd.jupyter.widget-view+json": {
       "model_id": "6e53906805264a7f97ebad4825f71422",
       "version_major": 2,
       "version_minor": 0
      },
      "text/plain": [
       "ToggleButtons(options=('AI', 'LB', 'RA'), tooltips=('All Intra', 'Low Delay B', 'Random Access'), value='AI')"
      ]
     },
     "metadata": {},
     "output_type": "display_data"
    },
    {
     "data": {
      "application/vnd.jupyter.widget-view+json": {
       "model_id": "2baa5567d6f3406fac1fe7e8313021bd",
       "version_major": 2,
       "version_minor": 0
      },
      "text/plain": [
       "Button(description='OK', style=ButtonStyle())"
      ]
     },
     "metadata": {},
     "output_type": "display_data"
    },
    {
     "data": {
      "application/vnd.jupyter.widget-view+json": {
       "model_id": "ce3975166fa14c22b6eae2cef021fcf5",
       "version_major": 2,
       "version_minor": 0
      },
      "text/plain": [
       "Output()"
      ]
     },
     "metadata": {},
     "output_type": "display_data"
    }
   ],
   "source": [
    "display(HTML(\"<h1>ANALISE</h1>\"))\n",
    "\n",
    "path = widgets.Text(\n",
    "    placeholder='path',\n",
    "    disabled=False\n",
    ")\n",
    "button_ok = widgets.Button(\n",
    "    description = 'OK'\n",
    ")\n",
    "button_ok.on_click(on_click_button_ok)   \n",
    "\n",
    "toggle_config = widgets.ToggleButtons(\n",
    "    options=['AI', 'LB', 'RA'],\n",
    "    disabled=False,\n",
    "    button_style='', # 'success', 'info', 'warning', 'danger' or ''\n",
    "    tooltips=['All Intra', 'Low Delay B', 'Random Access'],\n",
    "#     icons=['check'] * 3\n",
    ")\n",
    "\n",
    "display(path)\n",
    "display(toggle_config)\n",
    "display(button_ok, output2)"
   ]
  },
  {
   "cell_type": "code",
   "execution_count": 10,
   "metadata": {
    "hideCode": true
   },
   "outputs": [
    {
     "data": {
      "text/html": [
       "<h2>VVC</h2>"
      ],
      "text/plain": [
       "<IPython.core.display.HTML object>"
      ]
     },
     "metadata": {},
     "output_type": "display_data"
    },
    {
     "data": {
      "application/vnd.jupyter.widget-view+json": {
       "model_id": "c05c58f07c6e46648e546c41e448e0d7",
       "version_major": 2,
       "version_minor": 0
      },
      "text/plain": [
       "HBox(children=(Checkbox(value=False, description='Time', indent=False, layout=Layout(margin='5px', width='auto…"
      ]
     },
     "metadata": {},
     "output_type": "display_data"
    },
    {
     "data": {
      "application/vnd.jupyter.widget-view+json": {
       "model_id": "11224e91fd7e4b3fa3ec09e0dd35da8c",
       "version_major": 2,
       "version_minor": 0
      },
      "text/plain": [
       "HBox(children=(Checkbox(value=False, description='Best values', indent=False, layout=Layout(margin='5px', widt…"
      ]
     },
     "metadata": {},
     "output_type": "display_data"
    },
    {
     "data": {
      "application/vnd.jupyter.widget-view+json": {
       "model_id": "af498d321e8a480cbcf96dd25b4f97e1",
       "version_major": 2,
       "version_minor": 0
      },
      "text/plain": [
       "HBox(children=(Button(description='Print', style=ButtonStyle()), Button(description='Clear', style=ButtonStyle…"
      ]
     },
     "metadata": {},
     "output_type": "display_data"
    },
    {
     "data": {
      "application/vnd.jupyter.widget-view+json": {
       "model_id": "ecdb694d799e4ec594276a91ab68d1f7",
       "version_major": 2,
       "version_minor": 0
      },
      "text/plain": [
       "Output()"
      ]
     },
     "metadata": {},
     "output_type": "display_data"
    }
   ],
   "source": [
    "analise_vvc_print()"
   ]
  },
  {
   "cell_type": "code",
   "execution_count": 13,
   "metadata": {},
   "outputs": [
    {
     "data": {
      "text/html": [
       "<h2>GRAPHICS</h2>"
      ],
      "text/plain": [
       "<IPython.core.display.HTML object>"
      ]
     },
     "metadata": {},
     "output_type": "display_data"
    }
   ],
   "source": [
    "display(HTML(\"<h2>GRAPHICS</h2>\"))\n",
    "data = graphs.make_dictionary(MATRIX, CONFIG)\n"
   ]
  },
  {
   "cell_type": "code",
   "execution_count": 16,
   "metadata": {},
   "outputs": [
    {
     "ename": "ValueError",
     "evalue": "not enough values to unpack (expected 3, got 2)",
     "output_type": "error",
     "traceback": [
      "\u001b[0;31m---------------------------------------------------------------------------\u001b[0m",
      "\u001b[0;31mValueError\u001b[0m                                Traceback (most recent call last)",
      "\u001b[0;32m/tmp/ipykernel_25498/528042890.py\u001b[0m in \u001b[0;36m<module>\u001b[0;34m\u001b[0m\n\u001b[1;32m      4\u001b[0m \u001b[0;31m# Crie um gráfico de linhas empilhadas com marcadores e linha horizontal em zero\u001b[0m\u001b[0;34m\u001b[0m\u001b[0;34m\u001b[0m\u001b[0m\n\u001b[1;32m      5\u001b[0m \u001b[0mfig\u001b[0m\u001b[0;34m,\u001b[0m \u001b[0max\u001b[0m \u001b[0;34m=\u001b[0m \u001b[0mplt\u001b[0m\u001b[0;34m.\u001b[0m\u001b[0msubplots\u001b[0m\u001b[0;34m(\u001b[0m\u001b[0;34m)\u001b[0m\u001b[0;34m\u001b[0m\u001b[0;34m\u001b[0m\u001b[0m\n\u001b[0;32m----> 6\u001b[0;31m \u001b[0;32mfor\u001b[0m \u001b[0mi\u001b[0m\u001b[0;34m,\u001b[0m \u001b[0mteste\u001b[0m\u001b[0;34m,\u001b[0m\u001b[0mlabel_list\u001b[0m \u001b[0;32min\u001b[0m \u001b[0menumerate\u001b[0m\u001b[0;34m(\u001b[0m\u001b[0;34m[\u001b[0m\u001b[0;34m'1'\u001b[0m\u001b[0;34m,\u001b[0m\u001b[0;34m'2'\u001b[0m\u001b[0;34m,\u001b[0m\u001b[0;34m'3'\u001b[0m\u001b[0;34m,\u001b[0m\u001b[0;34m'sad'\u001b[0m\u001b[0;34m]\u001b[0m\u001b[0;34m)\u001b[0m\u001b[0;34m:\u001b[0m\u001b[0;34m\u001b[0m\u001b[0;34m\u001b[0m\u001b[0m\n\u001b[0m\u001b[1;32m      7\u001b[0m     \u001b[0max\u001b[0m\u001b[0;34m.\u001b[0m\u001b[0mplot\u001b[0m\u001b[0;34m(\u001b[0m\u001b[0mdata\u001b[0m\u001b[0;34m[\u001b[0m\u001b[0;34m'Name'\u001b[0m\u001b[0;34m]\u001b[0m\u001b[0;34m,\u001b[0m \u001b[0mdata\u001b[0m\u001b[0;34m[\u001b[0m\u001b[0mteste\u001b[0m\u001b[0;34m]\u001b[0m\u001b[0;34m,\u001b[0m \u001b[0mcores\u001b[0m\u001b[0;34m[\u001b[0m\u001b[0mi\u001b[0m\u001b[0;34m]\u001b[0m\u001b[0;34m,\u001b[0m \u001b[0mlabel\u001b[0m\u001b[0;34m=\u001b[0m\u001b[0mlabel_list\u001b[0m\u001b[0;34m,\u001b[0m \u001b[0mmarker\u001b[0m\u001b[0;34m=\u001b[0m\u001b[0;34m'o'\u001b[0m\u001b[0;34m,\u001b[0m \u001b[0mmarkersize\u001b[0m\u001b[0;34m=\u001b[0m\u001b[0;36m5\u001b[0m\u001b[0;34m)\u001b[0m\u001b[0;34m\u001b[0m\u001b[0;34m\u001b[0m\u001b[0m\n\u001b[1;32m      8\u001b[0m \u001b[0;34m\u001b[0m\u001b[0m\n",
      "\u001b[0;31mValueError\u001b[0m: not enough values to unpack (expected 3, got 2)"
     ]
    },
    {
     "data": {
      "image/png": "[encoded data removed]",
      "text/plain": [
       "<Figure size 432x288 with 1 Axes>"
      ]
     },
     "metadata": {
      "needs_background": "light"
     },
     "output_type": "display_data"
    }
   ],
   "source": [
    "# Cores para os testes\n",
    "cores = ['-b', '-g', '-r', '-c']\n",
    "label_l = ['-1','-2','-3','SAD']\n",
    "# Crie um gráfico de linhas empilhadas com marcadores e linha horizontal em zero\n",
    "fig, ax = plt.subplots()\n",
    "for i, teste in enumerate(['1','2','3','sad']):\n",
    "    ax.plot(data['Name'], data[teste], cores[i], label=teste, marker='o', markersize=5)\n",
    "\n",
    "# Adicione uma linha horizontal em zero\n",
    "plt.axhline(0, color='gray', linestyle='--', linewidth=0.5)\n",
    "\n",
    "# Rotacione os nomes dos vídeos verticalmente\n",
    "plt.xticks(rotation=90)\n",
    "\n",
    "# Adicione uma legenda de cores\n",
    "ax.legend(loc='upper left')\n",
    "\n",
    "# Rótulos dos eixos e título\n",
    "plt.xlabel('Vídeo')\n",
    "plt.ylabel('Valor')\n",
    "plt.title('BD-Rate por Aproximação')\n",
    "\n",
    "# Exiba o gráfico\n",
    "plt.show()"
   ]
  },
  {
   "cell_type": "code",
   "execution_count": null,
   "metadata": {},
   "outputs": [],
   "source": []
  }
 ],
 "metadata": {
  "celltoolbar": "Hide code",
  "kernelspec": {
   "display_name": "Python 3 (ipykernel)",
   "language": "python",
   "name": "python3"
  },
  "language_info": {
   "codemirror_mode": {
    "name": "ipython",
    "version": 3
   },
   "file_extension": ".py",
   "mimetype": "text/x-python",
   "name": "python",
   "nbconvert_exporter": "python",
   "pygments_lexer": "ipython3",
   "version": "3.10.12"
  }
 },
 "nbformat": 4,
 "nbformat_minor": 4
}
