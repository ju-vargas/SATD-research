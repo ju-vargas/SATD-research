{
 "cells": [
  {
   "cell_type": "code",
   "execution_count": 1,
   "metadata": {
    "hideCode": false,
    "scrolled": true
   },
   "outputs": [],
   "source": [
    "import os \n",
    "import ipywidgets as widgets\n",
    "from IPython.display import clear_output,display, HTML\n",
    "from source.commonlib import pathlist as pl\n",
    "from source.commonlib import analise as an\n",
    "from source.commonlib import metric as mr\n",
    "from source.commonlib import analisegprof as agp\n",
    "\n",
    "import numpy as np"
   ]
  },
  {
   "cell_type": "code",
   "execution_count": 2,
   "metadata": {
    "hideCode": false,
    "scrolled": false
   },
   "outputs": [],
   "source": [
    "#CONSTANTS\n",
    "GPROF_DIR = \"outputTests/gprof_log/\"\n",
    "VVCLOG_DIR =  \"outputTests/vvc_log/\""
   ]
  },
  {
   "cell_type": "code",
   "execution_count": 3,
   "metadata": {
    "hideCode": false,
    "scrolled": false
   },
   "outputs": [],
   "source": [
    "#FUNCTIONS BUTTON\n",
    "\n",
    "#geral\n",
    "def on_button_clear_click(b):\n",
    "    clear_output()\n",
    "    analise_print()\n",
    "#vvc\n",
    "def on_button_print_click(b):\n",
    "        \n",
    "    check_tags = []\n",
    "    if box1.value == True:\n",
    "        check_tags.append(box1.description)\n",
    "    if box2.value == True:\n",
    "        check_tags.append(box2.description)\n",
    "    if box3.value == True:\n",
    "        check_tags.append(box3.description)\n",
    "\n",
    "    bd_tags = []\n",
    "    if box4.value == True:\n",
    "        bd_tags.append(box4.description)\n",
    "    if box5.value == True:\n",
    "        bd_tags.append(box5.description)\n",
    "    \n",
    "    color_tags = []\n",
    "    if box6.value == True:\n",
    "        color_tags.append(box6.description)\n",
    "    if box7.value == True:\n",
    "        color_tags.append(box7.description)\n",
    "    \n",
    "        \n",
    "    matrix = an.analise(dropdown.value, VVCLOG_DIR, \"AI\", check_tags, bd_tags, color_tags)  \n",
    "    \n",
    "    agp.analise_prof(matrix, GPROF_DIR, \"AI\")"
   ]
  },
  {
   "cell_type": "code",
   "execution_count": 4,
   "metadata": {
    "hideCode": false,
    "hidePrompt": false,
    "scrolled": false
   },
   "outputs": [],
   "source": [
    "# widgets VVC \n",
    "def analise_print():\n",
    "    display(dropdown)\n",
    "    display(HTML(\"<h2>VVC</h2>\"))\n",
    "    display(container, container2)\n",
    "    display(HTML(\"<h2>GPROF</h2>\"))\n",
    "    display(text_function)\n",
    "    display(text_class)\n",
    "    display(dropdown_gprof)\n",
    "    display(buttons)\n",
    "\n",
    "\n"
   ]
  },
  {
   "cell_type": "code",
   "execution_count": 5,
   "metadata": {},
   "outputs": [],
   "source": [
    "# ELEMENTS \n",
    "# Dropdown\n",
    "options_drop = pl.list_matrices(\"-\", VVCLOG_DIR)\n",
    "options_drop.remove(\"Precise\")\n",
    "options_drop.sort()\n",
    "\n",
    "dropdown = widgets.Dropdown(options=options_drop)\n",
    "\n",
    "# Buttons\n",
    "botao = widgets.Button(description='Print')\n",
    "botao.on_click(on_button_print_click)\n",
    "\n",
    "botao_clear = widgets.Button(description='Clear')\n",
    "botao_clear.on_click(on_button_clear_click)\n",
    "\n",
    "buttons = widgets.HBox([botao, botao_clear])\n",
    "\n",
    "# Selection line1\n",
    "box1 = widgets.Checkbox(\n",
    "    description='Time',\n",
    "    indent=False,\n",
    "    disabled=False,\n",
    "    layout=widgets.Layout(width='auto', margin='5px'),\n",
    "    style={'description_width': 'initial'}\n",
    ")\n",
    "box2 = widgets.Checkbox(\n",
    "    description='Bitrate',\n",
    "    indent=False,\n",
    "    disabled=False,\n",
    "    layout=widgets.Layout(width='auto', margin ='5px'),\n",
    "    style={'description_width': 'initial'}\n",
    ")\n",
    "box3 = widgets.Checkbox(\n",
    "    description='PSNR',\n",
    "    indent=False,\n",
    "    disabled=False,\n",
    "    layout=widgets.Layout(width='auto', margin='5px'),\n",
    "    style={'description_width': 'initial'}\n",
    ")\n",
    "box4 = widgets.Checkbox(\n",
    "    description='BD-Rate',\n",
    "    indent=False,\n",
    "    disabled=False,\n",
    "    layout=widgets.Layout(width='auto', margin='5px'),\n",
    "    style={'description_width': 'initial'}\n",
    ")\n",
    "box5 = widgets.Checkbox(\n",
    "    description='BD-PSNR',\n",
    "    indent=False,\n",
    "    disabled=False,\n",
    "    layout=widgets.Layout(width='auto', margin='5px'),\n",
    "    style={'description_width': 'initial'}\n",
    ")\n",
    "\n",
    "\n",
    "#Selection line 2\n",
    "box6 = widgets.Checkbox(\n",
    "    description='Best values',\n",
    "    indent=False,\n",
    "    disabled=False,\n",
    "    layout=widgets.Layout(width='auto', margin='5px'),\n",
    "    style={'description_width': 'final'}\n",
    ")\n",
    "box7 = widgets.Checkbox(\n",
    "    description='Worst values',\n",
    "    indent=False,\n",
    "    disabled=False,\n",
    "    layout=widgets.Layout(width='auto', margin='5px'),\n",
    "    style={'description_width': 'final'}\n",
    ")\n",
    "\n",
    "#dropdown gprof\n",
    "options_drop_gprof = ['1','2','3','4','5','6','7']\n",
    "dropdown_gprof = widgets.Dropdown(options=options_drop_gprof)\n",
    "\n",
    "#text box gprof\n",
    "text_function = widgets.Text(description='Função:', value='')\n",
    "text_class = widgets.Text(description='Classe:', value='')\n",
    "\n",
    "container = widgets.HBox([box1, box2, box3, box4, box5])\n",
    "container2 = widgets.HBox([box6, box7])"
   ]
  },
  {
   "cell_type": "code",
   "execution_count": 6,
   "metadata": {
    "scrolled": false
   },
   "outputs": [
    {
     "data": {
      "text/html": [
       "<h1>ANALISE</h1>"
      ],
      "text/plain": [
       "<IPython.core.display.HTML object>"
      ]
     },
     "metadata": {},
     "output_type": "display_data"
    },
    {
     "data": {
      "application/vnd.jupyter.widget-view+json": {
       "model_id": "002be8ee746e4ce8a9ccf6cef2235a64",
       "version_major": 2,
       "version_minor": 0
      },
      "text/plain": [
       "Dropdown(options=('16x8', '4x8', '8x16', '8x4'), value='16x8')"
      ]
     },
     "metadata": {},
     "output_type": "display_data"
    },
    {
     "data": {
      "text/html": [
       "<h2>VVC</h2>"
      ],
      "text/plain": [
       "<IPython.core.display.HTML object>"
      ]
     },
     "metadata": {},
     "output_type": "display_data"
    },
    {
     "data": {
      "application/vnd.jupyter.widget-view+json": {
       "model_id": "c2d27139894e4b138cbedc68dafdbac7",
       "version_major": 2,
       "version_minor": 0
      },
      "text/plain": [
       "HBox(children=(Checkbox(value=False, description='Time', indent=False, layout=Layout(margin='5px', width='auto…"
      ]
     },
     "metadata": {},
     "output_type": "display_data"
    },
    {
     "data": {
      "application/vnd.jupyter.widget-view+json": {
       "model_id": "7182248b324e48bc8911929d34ea656a",
       "version_major": 2,
       "version_minor": 0
      },
      "text/plain": [
       "HBox(children=(Checkbox(value=False, description='Best values', indent=False, layout=Layout(margin='5px', widt…"
      ]
     },
     "metadata": {},
     "output_type": "display_data"
    },
    {
     "data": {
      "text/html": [
       "<h2>GPROF</h2>"
      ],
      "text/plain": [
       "<IPython.core.display.HTML object>"
      ]
     },
     "metadata": {},
     "output_type": "display_data"
    },
    {
     "data": {
      "application/vnd.jupyter.widget-view+json": {
       "model_id": "0a00f96a4fe840a697f37faedb2660d2",
       "version_major": 2,
       "version_minor": 0
      },
      "text/plain": [
       "Text(value='', description='Função:')"
      ]
     },
     "metadata": {},
     "output_type": "display_data"
    },
    {
     "data": {
      "application/vnd.jupyter.widget-view+json": {
       "model_id": "6da8d81b332446ccaa192f5f0980367c",
       "version_major": 2,
       "version_minor": 0
      },
      "text/plain": [
       "Text(value='', description='Classe:')"
      ]
     },
     "metadata": {},
     "output_type": "display_data"
    },
    {
     "data": {
      "application/vnd.jupyter.widget-view+json": {
       "model_id": "f84064c2bb2f412ea49f0aefeaee009d",
       "version_major": 2,
       "version_minor": 0
      },
      "text/plain": [
       "Dropdown(options=('1', '2', '3', '4', '5', '6', '7'), value='1')"
      ]
     },
     "metadata": {},
     "output_type": "display_data"
    },
    {
     "data": {
      "application/vnd.jupyter.widget-view+json": {
       "model_id": "01d11b7872074b5da23b45d118deaa87",
       "version_major": 2,
       "version_minor": 0
      },
      "text/plain": [
       "HBox(children=(Button(description='Print', style=ButtonStyle()), Button(description='Clear', style=ButtonStyle…"
      ]
     },
     "metadata": {},
     "output_type": "display_data"
    },
    {
     "name": "stdout",
     "output_type": "stream",
     "text": [
      "16x8\n"
     ]
    },
    {
     "data": {
      "text/html": [
       "<div>\n",
       "<style scoped>\n",
       "    .dataframe tbody tr th:only-of-type {\n",
       "        vertical-align: middle;\n",
       "    }\n",
       "\n",
       "    .dataframe tbody tr th {\n",
       "        vertical-align: top;\n",
       "    }\n",
       "\n",
       "    .dataframe thead th {\n",
       "        text-align: right;\n",
       "    }\n",
       "</style>\n",
       "<table border=\"1\" class=\"dataframe\">\n",
       "  <thead>\n",
       "    <tr style=\"text-align: right;\">\n",
       "      <th></th>\n",
       "      <th></th>\n",
       "      <th></th>\n",
       "      <th>-1</th>\n",
       "      <th>-2</th>\n",
       "      <th>-3</th>\n",
       "      <th>SAD</th>\n",
       "      <th>Precise</th>\n",
       "    </tr>\n",
       "  </thead>\n",
       "  <tbody>\n",
       "    <tr>\n",
       "      <th></th>\n",
       "      <th></th>\n",
       "      <th>Media BD-Rate</th>\n",
       "      <td>0.037091</td>\n",
       "      <td>0.077855</td>\n",
       "      <td>0.075213</td>\n",
       "      <td>0.050053</td>\n",
       "      <td>0.0</td>\n",
       "    </tr>\n",
       "  </tbody>\n",
       "</table>\n",
       "</div>"
      ],
      "text/plain": [
       "                       -1        -2        -3       SAD  Precise\n",
       "  Media BD-Rate  0.037091  0.077855  0.075213  0.050053      0.0"
      ]
     },
     "metadata": {},
     "output_type": "display_data"
    },
    {
     "name": "stdout",
     "output_type": "stream",
     "text": [
      "Aprox: 2\n",
      "Nome: BasketballPass\n",
      "Nome: RaceHorses2\n",
      "Nome: BasketballDrive\n",
      "Nome: Campfire\n",
      "Nome: BQMall\n",
      "Nome: FourPeople\n",
      "Nome: RitualDance\n",
      "Nome: RaceHorses\n",
      "Nome: FoodMarket4\n",
      "Nome: Johnny\n",
      "Aprox: 1\n",
      "Nome: BasketballPass\n",
      "Nome: RaceHorses2\n",
      "Nome: BasketballDrive\n",
      "Nome: Campfire\n",
      "Nome: BQMall\n",
      "Nome: FourPeople\n",
      "Nome: RitualDance\n",
      "Nome: RaceHorses\n",
      "Nome: FoodMarket4\n",
      "Nome: Johnny\n",
      "Aprox: sad\n",
      "Nome: BasketballPass\n",
      "Nome: RaceHorses2\n",
      "Nome: BasketballDrive\n",
      "Nome: Campfire\n",
      "Nome: BQMall\n",
      "Nome: FourPeople\n",
      "Nome: RitualDance\n",
      "Nome: RaceHorses\n",
      "Nome: FoodMarket4\n",
      "Nome: Johnny\n",
      "Aprox: 3\n",
      "Nome: BasketballPass\n",
      "Nome: RaceHorses2\n",
      "Nome: BasketballDrive\n",
      "Nome: Campfire\n",
      "Nome: BQMall\n",
      "Nome: FourPeople\n",
      "Nome: RitualDance\n",
      "Nome: RaceHorses\n",
      "Nome: FoodMarket4\n",
      "Nome: Johnny\n",
      "Aprox: Precise\n",
      "Nome: BasketballPass\n",
      "Nome: RaceHorses2\n",
      "Nome: BasketballDrive\n",
      "Nome: Campfire\n",
      "Nome: BQMall\n",
      "Nome: FourPeople\n",
      "Nome: RitualDance\n",
      "Nome: RaceHorses\n",
      "Nome: FoodMarket4\n",
      "Nome: Johnny\n"
     ]
    },
    {
     "ename": "ValueError",
     "evalue": "Shape of passed values is (5, 50), indices imply (10, 5)",
     "output_type": "error",
     "traceback": [
      "\u001b[0;31m---------------------------------------------------------------------------\u001b[0m",
      "\u001b[0;31mValueError\u001b[0m                                Traceback (most recent call last)",
      "Cell \u001b[0;32mIn[3], line 33\u001b[0m, in \u001b[0;36mon_button_print_click\u001b[0;34m(b)\u001b[0m\n\u001b[1;32m     28\u001b[0m     color_tags\u001b[38;5;241m.\u001b[39mappend(box7\u001b[38;5;241m.\u001b[39mdescription)\n\u001b[1;32m     31\u001b[0m matrix \u001b[38;5;241m=\u001b[39m an\u001b[38;5;241m.\u001b[39manalise(dropdown\u001b[38;5;241m.\u001b[39mvalue, VVCLOG_DIR, \u001b[38;5;124m\"\u001b[39m\u001b[38;5;124mAI\u001b[39m\u001b[38;5;124m\"\u001b[39m, check_tags, bd_tags, color_tags)  \n\u001b[0;32m---> 33\u001b[0m \u001b[43magp\u001b[49m\u001b[38;5;241;43m.\u001b[39;49m\u001b[43manalise_prof\u001b[49m\u001b[43m(\u001b[49m\u001b[43mmatrix\u001b[49m\u001b[43m,\u001b[49m\u001b[43m \u001b[49m\u001b[43mGPROF_DIR\u001b[49m\u001b[43m,\u001b[49m\u001b[43m \u001b[49m\u001b[38;5;124;43m\"\u001b[39;49m\u001b[38;5;124;43mAI\u001b[39;49m\u001b[38;5;124;43m\"\u001b[39;49m\u001b[43m)\u001b[49m\n",
      "File \u001b[0;32m~/Documentos/GitHub/SATD-research/source/commonlib/analisegprof.py:40\u001b[0m, in \u001b[0;36manalise_prof\u001b[0;34m(matrix, folder, config)\u001b[0m\n\u001b[1;32m     37\u001b[0m         video\u001b[38;5;241m.\u001b[39mset_functions(config)\n\u001b[1;32m     39\u001b[0m \u001b[38;5;66;03m#print(labels)\u001b[39;00m\n\u001b[0;32m---> 40\u001b[0m \u001b[43mtlprof\u001b[49m\u001b[38;5;241;43m.\u001b[39;49m\u001b[43mprint_table_gprof\u001b[49m\u001b[43m(\u001b[49m\u001b[43mmatrix\u001b[49m\u001b[43m,\u001b[49m\u001b[43mconfig\u001b[49m\u001b[43m,\u001b[49m\u001b[43m \u001b[49m\u001b[43mlabels\u001b[49m\u001b[43m)\u001b[49m\n",
      "File \u001b[0;32m~/Documentos/GitHub/SATD-research/source/commonlib/tablegprof.py:31\u001b[0m, in \u001b[0;36mprint_table_gprof\u001b[0;34m(matrix, config, labels)\u001b[0m\n\u001b[1;32m     25\u001b[0m     np\u001b[38;5;241m.\u001b[39mtranspose(teste)\n\u001b[1;32m     27\u001b[0m     \u001b[38;5;66;03m#videos, labels\u001b[39;00m\n\u001b[0;32m---> 31\u001b[0m df \u001b[38;5;241m=\u001b[39m \u001b[43mpd\u001b[49m\u001b[38;5;241;43m.\u001b[39;49m\u001b[43mDataFrame\u001b[49m\u001b[43m(\u001b[49m\u001b[43mnp\u001b[49m\u001b[38;5;241;43m.\u001b[39;49m\u001b[43marray\u001b[49m\u001b[43m(\u001b[49m\u001b[43mteste\u001b[49m\u001b[43m)\u001b[49m\u001b[43m,\u001b[49m\u001b[43m \u001b[49m\u001b[43mindex\u001b[49m\u001b[38;5;241;43m=\u001b[39;49m\u001b[43mvideos\u001b[49m\u001b[43m,\u001b[49m\u001b[43m \u001b[49m\u001b[43mcolumns\u001b[49m\u001b[38;5;241;43m=\u001b[39;49m\u001b[43mlabels\u001b[49m\u001b[43m)\u001b[49m\n\u001b[1;32m     32\u001b[0m display(df)\n",
      "File \u001b[0;32m~/.local/lib/python3.10/site-packages/pandas/core/frame.py:758\u001b[0m, in \u001b[0;36mDataFrame.__init__\u001b[0;34m(self, data, index, columns, dtype, copy)\u001b[0m\n\u001b[1;32m    747\u001b[0m         mgr \u001b[38;5;241m=\u001b[39m dict_to_mgr(\n\u001b[1;32m    748\u001b[0m             \u001b[38;5;66;03m# error: Item \"ndarray\" of \"Union[ndarray, Series, Index]\" has no\u001b[39;00m\n\u001b[1;32m    749\u001b[0m             \u001b[38;5;66;03m# attribute \"name\"\u001b[39;00m\n\u001b[0;32m   (...)\u001b[0m\n\u001b[1;32m    755\u001b[0m             copy\u001b[38;5;241m=\u001b[39m_copy,\n\u001b[1;32m    756\u001b[0m         )\n\u001b[1;32m    757\u001b[0m     \u001b[38;5;28;01melse\u001b[39;00m:\n\u001b[0;32m--> 758\u001b[0m         mgr \u001b[38;5;241m=\u001b[39m \u001b[43mndarray_to_mgr\u001b[49m\u001b[43m(\u001b[49m\n\u001b[1;32m    759\u001b[0m \u001b[43m            \u001b[49m\u001b[43mdata\u001b[49m\u001b[43m,\u001b[49m\n\u001b[1;32m    760\u001b[0m \u001b[43m            \u001b[49m\u001b[43mindex\u001b[49m\u001b[43m,\u001b[49m\n\u001b[1;32m    761\u001b[0m \u001b[43m            \u001b[49m\u001b[43mcolumns\u001b[49m\u001b[43m,\u001b[49m\n\u001b[1;32m    762\u001b[0m \u001b[43m            \u001b[49m\u001b[43mdtype\u001b[49m\u001b[38;5;241;43m=\u001b[39;49m\u001b[43mdtype\u001b[49m\u001b[43m,\u001b[49m\n\u001b[1;32m    763\u001b[0m \u001b[43m            \u001b[49m\u001b[43mcopy\u001b[49m\u001b[38;5;241;43m=\u001b[39;49m\u001b[43mcopy\u001b[49m\u001b[43m,\u001b[49m\n\u001b[1;32m    764\u001b[0m \u001b[43m            \u001b[49m\u001b[43mtyp\u001b[49m\u001b[38;5;241;43m=\u001b[39;49m\u001b[43mmanager\u001b[49m\u001b[43m,\u001b[49m\n\u001b[1;32m    765\u001b[0m \u001b[43m        \u001b[49m\u001b[43m)\u001b[49m\n\u001b[1;32m    767\u001b[0m \u001b[38;5;66;03m# For data is list-like, or Iterable (will consume into list)\u001b[39;00m\n\u001b[1;32m    768\u001b[0m \u001b[38;5;28;01melif\u001b[39;00m is_list_like(data):\n",
      "File \u001b[0;32m~/.local/lib/python3.10/site-packages/pandas/core/internals/construction.py:337\u001b[0m, in \u001b[0;36mndarray_to_mgr\u001b[0;34m(values, index, columns, dtype, copy, typ)\u001b[0m\n\u001b[1;32m    332\u001b[0m \u001b[38;5;66;03m# _prep_ndarraylike ensures that values.ndim == 2 at this point\u001b[39;00m\n\u001b[1;32m    333\u001b[0m index, columns \u001b[38;5;241m=\u001b[39m _get_axes(\n\u001b[1;32m    334\u001b[0m     values\u001b[38;5;241m.\u001b[39mshape[\u001b[38;5;241m0\u001b[39m], values\u001b[38;5;241m.\u001b[39mshape[\u001b[38;5;241m1\u001b[39m], index\u001b[38;5;241m=\u001b[39mindex, columns\u001b[38;5;241m=\u001b[39mcolumns\n\u001b[1;32m    335\u001b[0m )\n\u001b[0;32m--> 337\u001b[0m \u001b[43m_check_values_indices_shape_match\u001b[49m\u001b[43m(\u001b[49m\u001b[43mvalues\u001b[49m\u001b[43m,\u001b[49m\u001b[43m \u001b[49m\u001b[43mindex\u001b[49m\u001b[43m,\u001b[49m\u001b[43m \u001b[49m\u001b[43mcolumns\u001b[49m\u001b[43m)\u001b[49m\n\u001b[1;32m    339\u001b[0m \u001b[38;5;28;01mif\u001b[39;00m typ \u001b[38;5;241m==\u001b[39m \u001b[38;5;124m\"\u001b[39m\u001b[38;5;124marray\u001b[39m\u001b[38;5;124m\"\u001b[39m:\n\u001b[1;32m    340\u001b[0m     \u001b[38;5;28;01mif\u001b[39;00m \u001b[38;5;28missubclass\u001b[39m(values\u001b[38;5;241m.\u001b[39mdtype\u001b[38;5;241m.\u001b[39mtype, \u001b[38;5;28mstr\u001b[39m):\n",
      "File \u001b[0;32m~/.local/lib/python3.10/site-packages/pandas/core/internals/construction.py:408\u001b[0m, in \u001b[0;36m_check_values_indices_shape_match\u001b[0;34m(values, index, columns)\u001b[0m\n\u001b[1;32m    406\u001b[0m passed \u001b[38;5;241m=\u001b[39m values\u001b[38;5;241m.\u001b[39mshape\n\u001b[1;32m    407\u001b[0m implied \u001b[38;5;241m=\u001b[39m (\u001b[38;5;28mlen\u001b[39m(index), \u001b[38;5;28mlen\u001b[39m(columns))\n\u001b[0;32m--> 408\u001b[0m \u001b[38;5;28;01mraise\u001b[39;00m \u001b[38;5;167;01mValueError\u001b[39;00m(\u001b[38;5;124mf\u001b[39m\u001b[38;5;124m\"\u001b[39m\u001b[38;5;124mShape of passed values is \u001b[39m\u001b[38;5;132;01m{\u001b[39;00mpassed\u001b[38;5;132;01m}\u001b[39;00m\u001b[38;5;124m, indices imply \u001b[39m\u001b[38;5;132;01m{\u001b[39;00mimplied\u001b[38;5;132;01m}\u001b[39;00m\u001b[38;5;124m\"\u001b[39m)\n",
      "\u001b[0;31mValueError\u001b[0m: Shape of passed values is (5, 50), indices imply (10, 5)"
     ]
    }
   ],
   "source": [
    "# MAIN VVC\n",
    "\n",
    "display(HTML(\"<h1>ANALISE</h1>\"))\n",
    "analise_print()\n",
    "\n"
   ]
  }
 ],
 "metadata": {
  "celltoolbar": "Hide code",
  "kernelspec": {
   "display_name": "Python 3 (ipykernel)",
   "language": "python",
   "name": "python3"
  },
  "language_info": {
   "codemirror_mode": {
    "name": "ipython",
    "version": 3
   },
   "file_extension": ".py",
   "mimetype": "text/x-python",
   "name": "python",
   "nbconvert_exporter": "python",
   "pygments_lexer": "ipython3",
   "version": "3.10.6"
  }
 },
 "nbformat": 4,
 "nbformat_minor": 2
}
