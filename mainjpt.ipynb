{
 "cells": [
  {
   "cell_type": "code",
   "execution_count": 1,
   "metadata": {
    "scrolled": true
   },
   "outputs": [],
   "source": [
    "import os \n",
    "import ipywidgets as widgets\n",
    "from IPython.display import clear_output,display, HTML\n",
    "from source.commonlib import pathlist as pl\n",
    "from source.commonlib import analise as an"
   ]
  },
  {
   "cell_type": "code",
   "execution_count": 2,
   "metadata": {
    "scrolled": true
   },
   "outputs": [],
   "source": [
    "#CONSTANTS\n",
    "GPROF_DIR = \"outputTests/gprof_log/\"\n",
    "VVCLOG_DIR =  \"outputTests/vvc_log/\""
   ]
  },
  {
   "cell_type": "code",
   "execution_count": 3,
   "metadata": {
    "scrolled": true
   },
   "outputs": [],
   "source": [
    "#FUNCTIONS BUTTON\n",
    "\n",
    "#geral\n",
    "def on_button_clear_click(b):\n",
    "    clear_output()\n",
    "    analise_vvc_print()\n",
    "#vvc\n",
    "def on_button_print_click(b):\n",
    "    #listando todos os videos dentro das pastas das aproximacoes do valor aproximado\n",
    "    ##AJUSTAR DEPOIS \n",
    "    check_tags = []\n",
    "    if box1.value == True:\n",
    "        check_tags.append(box1.description)\n",
    "    if box2.value == True:\n",
    "        check_tags.append(box2.description)\n",
    "    if box3.value == True:\n",
    "        check_tags.append(box3.description)\n",
    "\n",
    "    an.analise(dropdown.value, VVCLOG_DIR, \"AI\",check_tags)  "
   ]
  },
  {
   "cell_type": "code",
   "execution_count": 4,
   "metadata": {
    "scrolled": true
   },
   "outputs": [],
   "source": [
    "# widgets VVC \n",
    "def analise_vvc_print():\n",
    "    display(HTML(\"<h2>Analise VVC</h2>\"))\n",
    "    display(dropdown, container, buttons)\n",
    "\n",
    "#widgets GPROF\n",
    "def analise_gprof_print():\n",
    "    display(HTML(\"<h1> Analise GPROF</h1>\"))"
   ]
  },
  {
   "cell_type": "code",
   "execution_count": 5,
   "metadata": {
    "scrolled": true
   },
   "outputs": [],
   "source": [
    "# ELEMENTS \n",
    "# Dropdown\n",
    "options_drop = pl.list_matrices(\"-\", VVCLOG_DIR)\n",
    "options_drop.remove(\"Precise\")\n",
    "options_drop.sort()\n",
    "\n",
    "dropdown = widgets.Dropdown(options=options_drop)\n",
    "\n",
    "# Buttons\n",
    "botao = widgets.Button(description='Imprimir')\n",
    "botao.on_click(on_button_print_click)\n",
    "\n",
    "botao_clear = widgets.Button(description='Clear')\n",
    "botao_clear.on_click(on_button_clear_click)\n",
    "\n",
    "buttons = widgets.HBox([botao, botao_clear])\n",
    "\n",
    "# Selection\n",
    "box1 = widgets.Checkbox(\n",
    "    description='Time',\n",
    "    disabled=False,\n",
    "    layout=widgets.Layout(width='auto', margin='5px'),\n",
    "    style={'description_width': 'initial'}\n",
    ")\n",
    "box2 = widgets.Checkbox(\n",
    "    description='Bitrate',\n",
    "    indent=False,\n",
    "    disabled=False,\n",
    "    layout=widgets.Layout(width='auto', margin ='5px'),\n",
    "    style={'description_width': 'initial'}\n",
    ")\n",
    "box3 = widgets.Checkbox(\n",
    "    description='PSNR',\n",
    "    indent=False,\n",
    "    disabled=False,\n",
    "    layout=widgets.Layout(width='auto', margin='5px'),\n",
    "    style={'description_width': 'initial'}\n",
    ")\n",
    "\n",
    "#caixa4 = widgets.Checkbox(description='BD-rate')\n",
    "\n",
    "container = widgets.HBox([box1, box2, box3])"
   ]
  },
  {
   "cell_type": "code",
   "execution_count": 6,
   "metadata": {
    "scrolled": false
   },
   "outputs": [
    {
     "data": {
      "text/html": [
       "<h2>Analise VVC</h2>"
      ],
      "text/plain": [
       "<IPython.core.display.HTML object>"
      ]
     },
     "metadata": {},
     "output_type": "display_data"
    },
    {
     "data": {
      "application/vnd.jupyter.widget-view+json": {
       "model_id": "5bd29bb3c2af4b94aaf5d4ebbbbfe894",
       "version_major": 2,
       "version_minor": 0
      },
      "text/plain": [
       "Dropdown(index=2, options=('16x8', '4x8', '8x16', '8x4'), value='8x16')"
      ]
     },
     "metadata": {},
     "output_type": "display_data"
    },
    {
     "data": {
      "application/vnd.jupyter.widget-view+json": {
       "model_id": "8337323106e14feba1f655647954be0c",
       "version_major": 2,
       "version_minor": 0
      },
      "text/plain": [
       "HBox(children=(Checkbox(value=False, description='Time', layout=Layout(margin='5px', width='auto'), style=Chec…"
      ]
     },
     "metadata": {},
     "output_type": "display_data"
    },
    {
     "data": {
      "application/vnd.jupyter.widget-view+json": {
       "model_id": "14372c5d6e4043578c9d71d14cd1348e",
       "version_major": 2,
       "version_minor": 0
      },
      "text/plain": [
       "HBox(children=(Button(description='Imprimir', style=ButtonStyle()), Button(description='Clear', style=ButtonSt…"
      ]
     },
     "metadata": {},
     "output_type": "display_data"
    },
    {
     "data": {
      "text/html": [
       "<div>\n",
       "<style scoped>\n",
       "    .dataframe tbody tr th:only-of-type {\n",
       "        vertical-align: middle;\n",
       "    }\n",
       "\n",
       "    .dataframe tbody tr th {\n",
       "        vertical-align: top;\n",
       "    }\n",
       "\n",
       "    .dataframe thead th {\n",
       "        text-align: right;\n",
       "    }\n",
       "</style>\n",
       "<table border=\"1\" class=\"dataframe\">\n",
       "  <thead>\n",
       "    <tr style=\"text-align: right;\">\n",
       "      <th></th>\n",
       "      <th></th>\n",
       "      <th></th>\n",
       "      <th>-1</th>\n",
       "      <th>-2</th>\n",
       "      <th>Precise</th>\n",
       "    </tr>\n",
       "  </thead>\n",
       "  <tbody>\n",
       "    <tr>\n",
       "      <th>BasketballPass</th>\n",
       "      <th></th>\n",
       "      <th>BDRate</th>\n",
       "      <td>0.113631</td>\n",
       "      <td>-0.049914</td>\n",
       "      <td>0.0</td>\n",
       "    </tr>\n",
       "    <tr>\n",
       "      <th>RaceHorses2</th>\n",
       "      <th></th>\n",
       "      <th>BDRate</th>\n",
       "      <td>0.075424</td>\n",
       "      <td>0.089887</td>\n",
       "      <td>0.0</td>\n",
       "    </tr>\n",
       "    <tr>\n",
       "      <th>BasketballDrive</th>\n",
       "      <th></th>\n",
       "      <th>BDRate</th>\n",
       "      <td>0.015312</td>\n",
       "      <td>-0.085100</td>\n",
       "      <td>0.0</td>\n",
       "    </tr>\n",
       "    <tr>\n",
       "      <th>Campfire</th>\n",
       "      <th></th>\n",
       "      <th>BDRate</th>\n",
       "      <td>0.022486</td>\n",
       "      <td>0.035261</td>\n",
       "      <td>0.0</td>\n",
       "    </tr>\n",
       "    <tr>\n",
       "      <th>BQMall</th>\n",
       "      <th></th>\n",
       "      <th>BDRate</th>\n",
       "      <td>0.021583</td>\n",
       "      <td>0.056489</td>\n",
       "      <td>0.0</td>\n",
       "    </tr>\n",
       "    <tr>\n",
       "      <th>FourPeople</th>\n",
       "      <th></th>\n",
       "      <th>BDRate</th>\n",
       "      <td>0.019915</td>\n",
       "      <td>0.050207</td>\n",
       "      <td>0.0</td>\n",
       "    </tr>\n",
       "    <tr>\n",
       "      <th>RitualDance</th>\n",
       "      <th></th>\n",
       "      <th>BDRate</th>\n",
       "      <td>-0.024517</td>\n",
       "      <td>0.084819</td>\n",
       "      <td>0.0</td>\n",
       "    </tr>\n",
       "    <tr>\n",
       "      <th>RaceHorses</th>\n",
       "      <th></th>\n",
       "      <th>BDRate</th>\n",
       "      <td>0.075424</td>\n",
       "      <td>0.089887</td>\n",
       "      <td>0.0</td>\n",
       "    </tr>\n",
       "    <tr>\n",
       "      <th>FoodMarket4</th>\n",
       "      <th></th>\n",
       "      <th>BDRate</th>\n",
       "      <td>-0.033320</td>\n",
       "      <td>-0.031223</td>\n",
       "      <td>0.0</td>\n",
       "    </tr>\n",
       "    <tr>\n",
       "      <th>Johnny</th>\n",
       "      <th></th>\n",
       "      <th>BDRate</th>\n",
       "      <td>0.138917</td>\n",
       "      <td>0.149207</td>\n",
       "      <td>0.0</td>\n",
       "    </tr>\n",
       "  </tbody>\n",
       "</table>\n",
       "</div>"
      ],
      "text/plain": [
       "                               -1        -2  Precise\n",
       "BasketballPass   BDRate  0.113631 -0.049914      0.0\n",
       "RaceHorses2      BDRate  0.075424  0.089887      0.0\n",
       "BasketballDrive  BDRate  0.015312 -0.085100      0.0\n",
       "Campfire         BDRate  0.022486  0.035261      0.0\n",
       "BQMall           BDRate  0.021583  0.056489      0.0\n",
       "FourPeople       BDRate  0.019915  0.050207      0.0\n",
       "RitualDance      BDRate -0.024517  0.084819      0.0\n",
       "RaceHorses       BDRate  0.075424  0.089887      0.0\n",
       "FoodMarket4      BDRate -0.033320 -0.031223      0.0\n",
       "Johnny           BDRate  0.138917  0.149207      0.0"
      ]
     },
     "metadata": {},
     "output_type": "display_data"
    }
   ],
   "source": [
    "# MAIN\n",
    "analise_vvc_print()"
   ]
  }
 ],
 "metadata": {
  "kernelspec": {
   "display_name": "Python 3 (ipykernel)",
   "language": "python",
   "name": "python3"
  },
  "language_info": {
   "codemirror_mode": {
    "name": "ipython",
    "version": 3
   },
   "file_extension": ".py",
   "mimetype": "text/x-python",
   "name": "python",
   "nbconvert_exporter": "python",
   "pygments_lexer": "ipython3",
   "version": "3.10.6"
  }
 },
 "nbformat": 4,
 "nbformat_minor": 2
}
