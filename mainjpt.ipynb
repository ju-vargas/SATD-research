{
 "cells": [
  {
   "cell_type": "code",
   "execution_count": 1,
   "metadata": {
    "scrolled": true
   },
   "outputs": [],
   "source": [
    "import os \n",
    "import ipywidgets as widgets\n",
    "from IPython.display import clear_output,display, HTML\n",
    "from source.commonlib import pathlist as pl\n",
    "from source.commonlib import analise as an\n",
    "\n",
    "from source.commonlib import metric as mr\n",
    "\n",
    "import numpy as np"
   ]
  },
  {
   "cell_type": "code",
   "execution_count": 2,
   "metadata": {
    "hideCode": true,
    "scrolled": false
   },
   "outputs": [],
   "source": [
    "#CONSTANTS\n",
    "GPROF_DIR = \"outputTests/gprof_log/\"\n",
    "VVCLOG_DIR =  \"outputTests/vvc_log/\""
   ]
  },
  {
   "cell_type": "code",
   "execution_count": 3,
   "metadata": {
    "hideCode": true,
    "scrolled": false
   },
   "outputs": [],
   "source": [
    "#FUNCTIONS BUTTON\n",
    "\n",
    "#geral\n",
    "def on_button_clear_click(b):\n",
    "    clear_output()\n",
    "    analise_vvc_print()\n",
    "#vvc\n",
    "def on_button_print_click(b):\n",
    "    #listando todos os videos dentro das pastas das aproximacoes do valor aproximado\n",
    "    ##AJUSTAR DEPOIS \n",
    "        \n",
    "    check_tags = []\n",
    "    if box1.value == True:\n",
    "        check_tags.append(box1.description)\n",
    "    if box2.value == True:\n",
    "        check_tags.append(box2.description)\n",
    "    if box3.value == True:\n",
    "        check_tags.append(box3.description)\n",
    "\n",
    "    bd_tags = []\n",
    "    if box4.value == True:\n",
    "        bd_tags.append(box4.description)\n",
    "    if box5.value == True:\n",
    "        bd_tags.append(box5.description)\n",
    "    \n",
    "    color_tags = []\n",
    "    if box6.value == True:\n",
    "        color_tags.append(box6.description)\n",
    "    if box7.value == True:\n",
    "        color_tags.append(box7.description)\n",
    "    \n",
    "        \n",
    "    an.analise(dropdown.value, VVCLOG_DIR, \"AI\", check_tags, bd_tags, color_tags)  "
   ]
  },
  {
   "cell_type": "code",
   "execution_count": 4,
   "metadata": {
    "hideCode": true,
    "scrolled": false
   },
   "outputs": [],
   "source": [
    "# widgets VVC \n",
    "def analise_vvc_print():\n",
    "    display(HTML(\"<h2>ANALISE VVC</h2>\"))\n",
    "    display(dropdown, container, container2, buttons)\n",
    "\n",
    "#widgets GPROF\n",
    "def analise_gprof_print():\n",
    "    display(HTML(\"<h1> Analise GPROF</h1>\"))"
   ]
  },
  {
   "cell_type": "code",
   "execution_count": 5,
   "metadata": {
    "hideCode": true,
    "scrolled": false
   },
   "outputs": [],
   "source": [
    "# ELEMENTS \n",
    "# Dropdown\n",
    "options_drop = pl.list_matrices(\"-\", VVCLOG_DIR)\n",
    "options_drop.remove(\"Precise\")\n",
    "options_drop.sort()\n",
    "\n",
    "dropdown = widgets.Dropdown(options=options_drop)\n",
    "\n",
    "# Buttons\n",
    "botao = widgets.Button(description='Print')\n",
    "botao.on_click(on_button_print_click)\n",
    "\n",
    "botao_clear = widgets.Button(description='Clear')\n",
    "botao_clear.on_click(on_button_clear_click)\n",
    "\n",
    "buttons = widgets.HBox([botao, botao_clear])\n",
    "\n",
    "# Selection line1\n",
    "box1 = widgets.Checkbox(\n",
    "    description='Time',\n",
    "    indent=False,\n",
    "    disabled=False,\n",
    "    layout=widgets.Layout(width='auto', margin='5px'),\n",
    "    style={'description_width': 'initial'}\n",
    ")\n",
    "box2 = widgets.Checkbox(\n",
    "    description='Bitrate',\n",
    "    indent=False,\n",
    "    disabled=False,\n",
    "    layout=widgets.Layout(width='auto', margin ='5px'),\n",
    "    style={'description_width': 'initial'}\n",
    ")\n",
    "box3 = widgets.Checkbox(\n",
    "    description='PSNR',\n",
    "    indent=False,\n",
    "    disabled=False,\n",
    "    layout=widgets.Layout(width='auto', margin='5px'),\n",
    "    style={'description_width': 'initial'}\n",
    ")\n",
    "box4 = widgets.Checkbox(\n",
    "    description='BD-Rate',\n",
    "    indent=False,\n",
    "    disabled=False,\n",
    "    layout=widgets.Layout(width='auto', margin='5px'),\n",
    "    style={'description_width': 'initial'}\n",
    ")\n",
    "box5 = widgets.Checkbox(\n",
    "    description='BD-PSNR',\n",
    "    indent=False,\n",
    "    disabled=False,\n",
    "    layout=widgets.Layout(width='auto', margin='5px'),\n",
    "    style={'description_width': 'initial'}\n",
    ")\n",
    "\n",
    "\n",
    "#Selection line 2\n",
    "box6 = widgets.Checkbox(\n",
    "    description='Best values',\n",
    "    indent=False,\n",
    "    disabled=False,\n",
    "    layout=widgets.Layout(width='auto', margin='5px'),\n",
    "    style={'description_width': 'final'}\n",
    ")\n",
    "box7 = widgets.Checkbox(\n",
    "    description='Worst values',\n",
    "    indent=False,\n",
    "    disabled=False,\n",
    "    layout=widgets.Layout(width='auto', margin='5px'),\n",
    "    style={'description_width': 'final'}\n",
    ")\n",
    "\n",
    "container = widgets.HBox([box1, box2, box3, box4, box5])\n",
    "container2 = widgets.HBox([box6, box7])"
   ]
  },
  {
   "cell_type": "code",
   "execution_count": 6,
   "metadata": {
    "scrolled": false
   },
   "outputs": [
    {
     "data": {
      "text/html": [
       "<h2>ANALISE VVC</h2>"
      ],
      "text/plain": [
       "<IPython.core.display.HTML object>"
      ]
     },
     "metadata": {},
     "output_type": "display_data"
    },
    {
     "data": {
      "application/vnd.jupyter.widget-view+json": {
       "model_id": "ee9d0e533b974e2583316d0100392f24",
       "version_major": 2,
       "version_minor": 0
      },
      "text/plain": [
       "Dropdown(options=('16x8', '4x8', '8x16', '8x4'), value='16x8')"
      ]
     },
     "metadata": {},
     "output_type": "display_data"
    },
    {
     "data": {
      "application/vnd.jupyter.widget-view+json": {
       "model_id": "ee0f432a6d1742608ebc326470334c08",
       "version_major": 2,
       "version_minor": 0
      },
      "text/plain": [
       "HBox(children=(Checkbox(value=False, description='Time', indent=False, layout=Layout(margin='5px', width='auto…"
      ]
     },
     "metadata": {},
     "output_type": "display_data"
    },
    {
     "data": {
      "application/vnd.jupyter.widget-view+json": {
       "model_id": "7060dcc599494b3dacbea720f3fcd15c",
       "version_major": 2,
       "version_minor": 0
      },
      "text/plain": [
       "HBox(children=(Checkbox(value=True, description='Best values', indent=False, layout=Layout(margin='5px', width…"
      ]
     },
     "metadata": {},
     "output_type": "display_data"
    },
    {
     "data": {
      "application/vnd.jupyter.widget-view+json": {
       "model_id": "daa26358ff75473b8b2b1a54a120c94e",
       "version_major": 2,
       "version_minor": 0
      },
      "text/plain": [
       "HBox(children=(Button(description='Print', style=ButtonStyle()), Button(description='Clear', style=ButtonStyle…"
      ]
     },
     "metadata": {},
     "output_type": "display_data"
    },
    {
     "data": {
      "text/html": [
       "<style type=\"text/css\">\n",
       "#T_1bd54_row0_col0, #T_1bd54_row3_col0, #T_1bd54_row4_col0, #T_1bd54_row5_col1, #T_1bd54_row8_col3 {\n",
       "  background-color: #60C25B;\n",
       "}\n",
       "#T_1bd54_row1_col3, #T_1bd54_row2_col3, #T_1bd54_row6_col3, #T_1bd54_row7_col3, #T_1bd54_row9_col2 {\n",
       "  background-color: #ABE0A6;\n",
       "}\n",
       "</style>\n",
       "<table id=\"T_1bd54\">\n",
       "  <thead>\n",
       "    <tr>\n",
       "      <th class=\"blank\" >&nbsp;</th>\n",
       "      <th class=\"blank\" >&nbsp;</th>\n",
       "      <th class=\"blank level0\" >&nbsp;</th>\n",
       "      <th id=\"T_1bd54_level0_col0\" class=\"col_heading level0 col0\" >-1</th>\n",
       "      <th id=\"T_1bd54_level0_col1\" class=\"col_heading level0 col1\" >-2</th>\n",
       "      <th id=\"T_1bd54_level0_col2\" class=\"col_heading level0 col2\" >-3</th>\n",
       "      <th id=\"T_1bd54_level0_col3\" class=\"col_heading level0 col3\" >SAD</th>\n",
       "      <th id=\"T_1bd54_level0_col4\" class=\"col_heading level0 col4\" >Precise</th>\n",
       "    </tr>\n",
       "  </thead>\n",
       "  <tbody>\n",
       "    <tr>\n",
       "      <th id=\"T_1bd54_level0_row0\" class=\"row_heading level0 row0\" >BasketballPass</th>\n",
       "      <th id=\"T_1bd54_level1_row0\" class=\"row_heading level1 row0\" ></th>\n",
       "      <th id=\"T_1bd54_level2_row0\" class=\"row_heading level2 row0\" >BD-Rate</th>\n",
       "      <td id=\"T_1bd54_row0_col0\" class=\"data row0 col0\" >-0.050495</td>\n",
       "      <td id=\"T_1bd54_row0_col1\" class=\"data row0 col1\" >0.111377</td>\n",
       "      <td id=\"T_1bd54_row0_col2\" class=\"data row0 col2\" >0.015413</td>\n",
       "      <td id=\"T_1bd54_row0_col3\" class=\"data row0 col3\" >0.018639</td>\n",
       "      <td id=\"T_1bd54_row0_col4\" class=\"data row0 col4\" >0.000000</td>\n",
       "    </tr>\n",
       "    <tr>\n",
       "      <th id=\"T_1bd54_level0_row1\" class=\"row_heading level0 row1\" >RaceHorses2</th>\n",
       "      <th id=\"T_1bd54_level1_row1\" class=\"row_heading level1 row1\" ></th>\n",
       "      <th id=\"T_1bd54_level2_row1\" class=\"row_heading level2 row1\" >BD-Rate</th>\n",
       "      <td id=\"T_1bd54_row1_col0\" class=\"data row1 col0\" >0.102564</td>\n",
       "      <td id=\"T_1bd54_row1_col1\" class=\"data row1 col1\" >0.104166</td>\n",
       "      <td id=\"T_1bd54_row1_col2\" class=\"data row1 col2\" >0.113879</td>\n",
       "      <td id=\"T_1bd54_row1_col3\" class=\"data row1 col3\" >0.093448</td>\n",
       "      <td id=\"T_1bd54_row1_col4\" class=\"data row1 col4\" >0.000000</td>\n",
       "    </tr>\n",
       "    <tr>\n",
       "      <th id=\"T_1bd54_level0_row2\" class=\"row_heading level0 row2\" >BasketballDrive</th>\n",
       "      <th id=\"T_1bd54_level1_row2\" class=\"row_heading level1 row2\" ></th>\n",
       "      <th id=\"T_1bd54_level2_row2\" class=\"row_heading level2 row2\" >BD-Rate</th>\n",
       "      <td id=\"T_1bd54_row2_col0\" class=\"data row2 col0\" >0.062979</td>\n",
       "      <td id=\"T_1bd54_row2_col1\" class=\"data row2 col1\" >0.121402</td>\n",
       "      <td id=\"T_1bd54_row2_col2\" class=\"data row2 col2\" >0.182070</td>\n",
       "      <td id=\"T_1bd54_row2_col3\" class=\"data row2 col3\" >0.023155</td>\n",
       "      <td id=\"T_1bd54_row2_col4\" class=\"data row2 col4\" >0.000000</td>\n",
       "    </tr>\n",
       "    <tr>\n",
       "      <th id=\"T_1bd54_level0_row3\" class=\"row_heading level0 row3\" >Campfire</th>\n",
       "      <th id=\"T_1bd54_level1_row3\" class=\"row_heading level1 row3\" ></th>\n",
       "      <th id=\"T_1bd54_level2_row3\" class=\"row_heading level2 row3\" >BD-Rate</th>\n",
       "      <td id=\"T_1bd54_row3_col0\" class=\"data row3 col0\" >-0.028706</td>\n",
       "      <td id=\"T_1bd54_row3_col1\" class=\"data row3 col1\" >0.019837</td>\n",
       "      <td id=\"T_1bd54_row3_col2\" class=\"data row3 col2\" >-0.010226</td>\n",
       "      <td id=\"T_1bd54_row3_col3\" class=\"data row3 col3\" >0.002191</td>\n",
       "      <td id=\"T_1bd54_row3_col4\" class=\"data row3 col4\" >0.000000</td>\n",
       "    </tr>\n",
       "    <tr>\n",
       "      <th id=\"T_1bd54_level0_row4\" class=\"row_heading level0 row4\" >BQMall</th>\n",
       "      <th id=\"T_1bd54_level1_row4\" class=\"row_heading level1 row4\" ></th>\n",
       "      <th id=\"T_1bd54_level2_row4\" class=\"row_heading level2 row4\" >BD-Rate</th>\n",
       "      <td id=\"T_1bd54_row4_col0\" class=\"data row4 col0\" >-0.029828</td>\n",
       "      <td id=\"T_1bd54_row4_col1\" class=\"data row4 col1\" >0.034516</td>\n",
       "      <td id=\"T_1bd54_row4_col2\" class=\"data row4 col2\" >0.048488</td>\n",
       "      <td id=\"T_1bd54_row4_col3\" class=\"data row4 col3\" >0.026231</td>\n",
       "      <td id=\"T_1bd54_row4_col4\" class=\"data row4 col4\" >0.000000</td>\n",
       "    </tr>\n",
       "    <tr>\n",
       "      <th id=\"T_1bd54_level0_row5\" class=\"row_heading level0 row5\" >FourPeople</th>\n",
       "      <th id=\"T_1bd54_level1_row5\" class=\"row_heading level1 row5\" ></th>\n",
       "      <th id=\"T_1bd54_level2_row5\" class=\"row_heading level2 row5\" >BD-Rate</th>\n",
       "      <td id=\"T_1bd54_row5_col0\" class=\"data row5 col0\" >0.019817</td>\n",
       "      <td id=\"T_1bd54_row5_col1\" class=\"data row5 col1\" >-0.003273</td>\n",
       "      <td id=\"T_1bd54_row5_col2\" class=\"data row5 col2\" >0.018029</td>\n",
       "      <td id=\"T_1bd54_row5_col3\" class=\"data row5 col3\" >-0.001151</td>\n",
       "      <td id=\"T_1bd54_row5_col4\" class=\"data row5 col4\" >0.000000</td>\n",
       "    </tr>\n",
       "    <tr>\n",
       "      <th id=\"T_1bd54_level0_row6\" class=\"row_heading level0 row6\" >RitualDance</th>\n",
       "      <th id=\"T_1bd54_level1_row6\" class=\"row_heading level1 row6\" ></th>\n",
       "      <th id=\"T_1bd54_level2_row6\" class=\"row_heading level2 row6\" >BD-Rate</th>\n",
       "      <td id=\"T_1bd54_row6_col0\" class=\"data row6 col0\" >0.080827</td>\n",
       "      <td id=\"T_1bd54_row6_col1\" class=\"data row6 col1\" >0.094987</td>\n",
       "      <td id=\"T_1bd54_row6_col2\" class=\"data row6 col2\" >0.121789</td>\n",
       "      <td id=\"T_1bd54_row6_col3\" class=\"data row6 col3\" >0.070055</td>\n",
       "      <td id=\"T_1bd54_row6_col4\" class=\"data row6 col4\" >0.000000</td>\n",
       "    </tr>\n",
       "    <tr>\n",
       "      <th id=\"T_1bd54_level0_row7\" class=\"row_heading level0 row7\" >RaceHorses</th>\n",
       "      <th id=\"T_1bd54_level1_row7\" class=\"row_heading level1 row7\" ></th>\n",
       "      <th id=\"T_1bd54_level2_row7\" class=\"row_heading level2 row7\" >BD-Rate</th>\n",
       "      <td id=\"T_1bd54_row7_col0\" class=\"data row7 col0\" >0.102564</td>\n",
       "      <td id=\"T_1bd54_row7_col1\" class=\"data row7 col1\" >0.104166</td>\n",
       "      <td id=\"T_1bd54_row7_col2\" class=\"data row7 col2\" >0.113879</td>\n",
       "      <td id=\"T_1bd54_row7_col3\" class=\"data row7 col3\" >0.093448</td>\n",
       "      <td id=\"T_1bd54_row7_col4\" class=\"data row7 col4\" >0.000000</td>\n",
       "    </tr>\n",
       "    <tr>\n",
       "      <th id=\"T_1bd54_level0_row8\" class=\"row_heading level0 row8\" >FoodMarket4</th>\n",
       "      <th id=\"T_1bd54_level1_row8\" class=\"row_heading level1 row8\" ></th>\n",
       "      <th id=\"T_1bd54_level2_row8\" class=\"row_heading level2 row8\" >BD-Rate</th>\n",
       "      <td id=\"T_1bd54_row8_col0\" class=\"data row8 col0\" >0.013129</td>\n",
       "      <td id=\"T_1bd54_row8_col1\" class=\"data row8 col1\" >0.031574</td>\n",
       "      <td id=\"T_1bd54_row8_col2\" class=\"data row8 col2\" >0.056194</td>\n",
       "      <td id=\"T_1bd54_row8_col3\" class=\"data row8 col3\" >-0.014320</td>\n",
       "      <td id=\"T_1bd54_row8_col4\" class=\"data row8 col4\" >0.000000</td>\n",
       "    </tr>\n",
       "    <tr>\n",
       "      <th id=\"T_1bd54_level0_row9\" class=\"row_heading level0 row9\" >Johnny</th>\n",
       "      <th id=\"T_1bd54_level1_row9\" class=\"row_heading level1 row9\" ></th>\n",
       "      <th id=\"T_1bd54_level2_row9\" class=\"row_heading level2 row9\" >BD-Rate</th>\n",
       "      <td id=\"T_1bd54_row9_col0\" class=\"data row9 col0\" >0.098059</td>\n",
       "      <td id=\"T_1bd54_row9_col1\" class=\"data row9 col1\" >0.159793</td>\n",
       "      <td id=\"T_1bd54_row9_col2\" class=\"data row9 col2\" >0.092614</td>\n",
       "      <td id=\"T_1bd54_row9_col3\" class=\"data row9 col3\" >0.188839</td>\n",
       "      <td id=\"T_1bd54_row9_col4\" class=\"data row9 col4\" >0.000000</td>\n",
       "    </tr>\n",
       "  </tbody>\n",
       "</table>\n"
      ],
      "text/plain": [
       "<pandas.io.formats.style.Styler at 0x7f09ba5897b0>"
      ]
     },
     "metadata": {},
     "output_type": "display_data"
    }
   ],
   "source": [
    "# MAIN\n",
    "analise_vvc_print()"
   ]
  },
  {
   "cell_type": "code",
   "execution_count": 7,
   "metadata": {
    "scrolled": true
   },
   "outputs": [
    {
     "name": "stdout",
     "output_type": "stream",
     "text": [
      "BD-PSNR:  7.045618035753825\n",
      "BD-RATE:  -59.081257784405516\n"
     ]
    }
   ],
   "source": [
    "#Teste BDRATE\n",
    "\n",
    "Rate1 = np.array([4919.100000, 876.300000, 2906.100000, 1608.050000])\n",
    "PSNR1 = np.array([40.28, 37.18, 34.24, 31.42])\n",
    "Rate2 = np.array([1608.4000, 2904.5500, 204.93, 112.75])\n",
    "PSNR2 = np.array([40.39, 37.21, 34.17, 31.24])\n",
    "\n",
    "print(\"BD-PSNR: \", mr.bj_delta(Rate1, PSNR1, Rate2, PSNR2, mode=0))\n",
    "print(\"BD-RATE: \", mr.bj_delta(Rate1, PSNR1, Rate2, PSNR2, mode=1))\n"
   ]
  },
  {
   "cell_type": "code",
   "execution_count": null,
   "metadata": {
    "scrolled": true
   },
   "outputs": [],
   "source": []
  }
 ],
 "metadata": {
  "kernelspec": {
   "display_name": "Python 3 (ipykernel)",
   "language": "python",
   "name": "python3"
  },
  "language_info": {
   "codemirror_mode": {
    "name": "ipython",
    "version": 3
   },
   "file_extension": ".py",
   "mimetype": "text/x-python",
   "name": "python",
   "nbconvert_exporter": "python",
   "pygments_lexer": "ipython3",
   "version": "3.10.6"
  }
 },
 "nbformat": 4,
 "nbformat_minor": 2
}
