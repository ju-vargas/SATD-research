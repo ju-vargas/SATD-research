{
 "cells": [
  {
   "cell_type": "code",
   "execution_count": 1,
   "metadata": {
    "scrolled": true
   },
   "outputs": [],
   "source": [
    "import os \n",
    "import ipywidgets as widgets\n",
    "from IPython.display import clear_output,display, HTML\n",
    "from source.commonlib import pathlist as pl\n",
    "from source.commonlib import analise as an"
   ]
  },
  {
   "cell_type": "code",
   "execution_count": 2,
   "metadata": {
    "hideCode": true,
    "scrolled": true
   },
   "outputs": [],
   "source": [
    "#CONSTANTS\n",
    "GPROF_DIR = \"outputTests/gprof_log/\"\n",
    "VVCLOG_DIR =  \"outputTests/vvc_log/\""
   ]
  },
  {
   "cell_type": "code",
   "execution_count": 3,
   "metadata": {
    "hideCode": true,
    "scrolled": true
   },
   "outputs": [],
   "source": [
    "#FUNCTIONS BUTTON\n",
    "\n",
    "#geral\n",
    "def on_button_clear_click(b):\n",
    "    clear_output()\n",
    "    analise_vvc_print()\n",
    "#vvc\n",
    "def on_button_print_click(b):\n",
    "    #listando todos os videos dentro das pastas das aproximacoes do valor aproximado\n",
    "    ##AJUSTAR DEPOIS \n",
    "    check_tags = []\n",
    "    if box1.value == True:\n",
    "        check_tags.append(box1.description)\n",
    "    if box2.value == True:\n",
    "        check_tags.append(box2.description)\n",
    "    if box3.value == True:\n",
    "        check_tags.append(box3.description)\n",
    "\n",
    "    an.analise(dropdown.value, VVCLOG_DIR, \"AI\",check_tags)  "
   ]
  },
  {
   "cell_type": "code",
   "execution_count": 4,
   "metadata": {
    "hideCode": true,
    "scrolled": true
   },
   "outputs": [],
   "source": [
    "# widgets VVC \n",
    "def analise_vvc_print():\n",
    "    display(HTML(\"<h2>Analise VVC</h2>\"))\n",
    "    display(dropdown, container, buttons)\n",
    "\n",
    "#widgets GPROF\n",
    "def analise_gprof_print():\n",
    "    display(HTML(\"<h1> Analise GPROF</h1>\"))"
   ]
  },
  {
   "cell_type": "code",
   "execution_count": 5,
   "metadata": {
    "hideCode": true,
    "scrolled": true
   },
   "outputs": [],
   "source": [
    "# ELEMENTS \n",
    "# Dropdown\n",
    "options_drop = pl.list_matrices(\"-\", VVCLOG_DIR)\n",
    "options_drop.remove(\"Precise\")\n",
    "options_drop.sort()\n",
    "\n",
    "dropdown = widgets.Dropdown(options=options_drop)\n",
    "\n",
    "# Buttons\n",
    "botao = widgets.Button(description='Imprimir')\n",
    "botao.on_click(on_button_print_click)\n",
    "\n",
    "botao_clear = widgets.Button(description='Clear')\n",
    "botao_clear.on_click(on_button_clear_click)\n",
    "\n",
    "buttons = widgets.HBox([botao, botao_clear])\n",
    "\n",
    "# Selection\n",
    "box1 = widgets.Checkbox(\n",
    "    description='Time',\n",
    "    disabled=False,\n",
    "    layout=widgets.Layout(width='auto', margin='5px'),\n",
    "    style={'description_width': 'initial'}\n",
    ")\n",
    "box2 = widgets.Checkbox(\n",
    "    description='Bitrate',\n",
    "    indent=False,\n",
    "    disabled=False,\n",
    "    layout=widgets.Layout(width='auto', margin ='5px'),\n",
    "    style={'description_width': 'initial'}\n",
    ")\n",
    "box3 = widgets.Checkbox(\n",
    "    description='PSNR',\n",
    "    indent=False,\n",
    "    disabled=False,\n",
    "    layout=widgets.Layout(width='auto', margin='5px'),\n",
    "    style={'description_width': 'initial'}\n",
    ")\n",
    "\n",
    "#caixa4 = widgets.Checkbox(description='BD-rate')\n",
    "\n",
    "container = widgets.HBox([box1, box2, box3])"
   ]
  },
  {
   "cell_type": "code",
   "execution_count": 7,
   "metadata": {
    "scrolled": false
   },
   "outputs": [
    {
     "data": {
      "text/html": [
       "<h2>Analise VVC</h2>"
      ],
      "text/plain": [
       "<IPython.core.display.HTML object>"
      ]
     },
     "metadata": {},
     "output_type": "display_data"
    },
    {
     "data": {
      "application/vnd.jupyter.widget-view+json": {
       "model_id": "9b7334592d1a4602bdf6a4f64678e645",
       "version_major": 2,
       "version_minor": 0
      },
      "text/plain": [
       "Dropdown(options=('16x8', '4x8', '8x16', '8x4'), value='16x8')"
      ]
     },
     "metadata": {},
     "output_type": "display_data"
    },
    {
     "data": {
      "application/vnd.jupyter.widget-view+json": {
       "model_id": "80ba5b13e94142eea74b248ae5697e50",
       "version_major": 2,
       "version_minor": 0
      },
      "text/plain": [
       "HBox(children=(Checkbox(value=False, description='Time', layout=Layout(margin='5px', width='auto'), style=Chec…"
      ]
     },
     "metadata": {},
     "output_type": "display_data"
    },
    {
     "data": {
      "application/vnd.jupyter.widget-view+json": {
       "model_id": "0e623e04c58e450ca6a9b7f92faa3b16",
       "version_major": 2,
       "version_minor": 0
      },
      "text/plain": [
       "HBox(children=(Button(description='Imprimir', style=ButtonStyle()), Button(description='Clear', style=ButtonSt…"
      ]
     },
     "metadata": {},
     "output_type": "display_data"
    },
    {
     "data": {
      "text/html": [
       "<div>\n",
       "<style scoped>\n",
       "    .dataframe tbody tr th:only-of-type {\n",
       "        vertical-align: middle;\n",
       "    }\n",
       "\n",
       "    .dataframe tbody tr th {\n",
       "        vertical-align: top;\n",
       "    }\n",
       "\n",
       "    .dataframe thead th {\n",
       "        text-align: right;\n",
       "    }\n",
       "</style>\n",
       "<table border=\"1\" class=\"dataframe\">\n",
       "  <thead>\n",
       "    <tr style=\"text-align: right;\">\n",
       "      <th></th>\n",
       "      <th></th>\n",
       "      <th></th>\n",
       "      <th>-1</th>\n",
       "      <th>-2</th>\n",
       "      <th>-3</th>\n",
       "      <th>-sad</th>\n",
       "      <th>Precise</th>\n",
       "    </tr>\n",
       "  </thead>\n",
       "  <tbody>\n",
       "    <tr>\n",
       "      <th>BasketballPass</th>\n",
       "      <th></th>\n",
       "      <th>BDRate</th>\n",
       "      <td>0.111377</td>\n",
       "      <td>-0.050495</td>\n",
       "      <td>0.018639</td>\n",
       "      <td>0.015413</td>\n",
       "      <td>0.0</td>\n",
       "    </tr>\n",
       "    <tr>\n",
       "      <th>RaceHorses2</th>\n",
       "      <th></th>\n",
       "      <th>BDRate</th>\n",
       "      <td>0.104166</td>\n",
       "      <td>0.102564</td>\n",
       "      <td>0.093448</td>\n",
       "      <td>0.113879</td>\n",
       "      <td>0.0</td>\n",
       "    </tr>\n",
       "    <tr>\n",
       "      <th>BasketballDrive</th>\n",
       "      <th></th>\n",
       "      <th>BDRate</th>\n",
       "      <td>0.121402</td>\n",
       "      <td>0.062979</td>\n",
       "      <td>0.023155</td>\n",
       "      <td>0.182070</td>\n",
       "      <td>0.0</td>\n",
       "    </tr>\n",
       "    <tr>\n",
       "      <th>Campfire</th>\n",
       "      <th></th>\n",
       "      <th>BDRate</th>\n",
       "      <td>0.019837</td>\n",
       "      <td>-0.028706</td>\n",
       "      <td>0.002191</td>\n",
       "      <td>-0.010226</td>\n",
       "      <td>0.0</td>\n",
       "    </tr>\n",
       "    <tr>\n",
       "      <th>BQMall</th>\n",
       "      <th></th>\n",
       "      <th>BDRate</th>\n",
       "      <td>0.034516</td>\n",
       "      <td>-0.029828</td>\n",
       "      <td>0.026231</td>\n",
       "      <td>0.048488</td>\n",
       "      <td>0.0</td>\n",
       "    </tr>\n",
       "    <tr>\n",
       "      <th>FourPeople</th>\n",
       "      <th></th>\n",
       "      <th>BDRate</th>\n",
       "      <td>-0.003273</td>\n",
       "      <td>0.019817</td>\n",
       "      <td>-0.001151</td>\n",
       "      <td>0.018029</td>\n",
       "      <td>0.0</td>\n",
       "    </tr>\n",
       "    <tr>\n",
       "      <th>RitualDance</th>\n",
       "      <th></th>\n",
       "      <th>BDRate</th>\n",
       "      <td>0.094987</td>\n",
       "      <td>0.080827</td>\n",
       "      <td>0.070055</td>\n",
       "      <td>0.121789</td>\n",
       "      <td>0.0</td>\n",
       "    </tr>\n",
       "    <tr>\n",
       "      <th>RaceHorses</th>\n",
       "      <th></th>\n",
       "      <th>BDRate</th>\n",
       "      <td>0.104166</td>\n",
       "      <td>0.102564</td>\n",
       "      <td>0.093448</td>\n",
       "      <td>0.113879</td>\n",
       "      <td>0.0</td>\n",
       "    </tr>\n",
       "    <tr>\n",
       "      <th>FoodMarket4</th>\n",
       "      <th></th>\n",
       "      <th>BDRate</th>\n",
       "      <td>0.031574</td>\n",
       "      <td>0.013129</td>\n",
       "      <td>-0.014320</td>\n",
       "      <td>0.056194</td>\n",
       "      <td>0.0</td>\n",
       "    </tr>\n",
       "    <tr>\n",
       "      <th>Johnny</th>\n",
       "      <th></th>\n",
       "      <th>BDRate</th>\n",
       "      <td>0.159793</td>\n",
       "      <td>0.098059</td>\n",
       "      <td>0.188839</td>\n",
       "      <td>0.092614</td>\n",
       "      <td>0.0</td>\n",
       "    </tr>\n",
       "  </tbody>\n",
       "</table>\n",
       "</div>"
      ],
      "text/plain": [
       "                               -1        -2        -3      -sad  Precise\n",
       "BasketballPass   BDRate  0.111377 -0.050495  0.018639  0.015413      0.0\n",
       "RaceHorses2      BDRate  0.104166  0.102564  0.093448  0.113879      0.0\n",
       "BasketballDrive  BDRate  0.121402  0.062979  0.023155  0.182070      0.0\n",
       "Campfire         BDRate  0.019837 -0.028706  0.002191 -0.010226      0.0\n",
       "BQMall           BDRate  0.034516 -0.029828  0.026231  0.048488      0.0\n",
       "FourPeople       BDRate -0.003273  0.019817 -0.001151  0.018029      0.0\n",
       "RitualDance      BDRate  0.094987  0.080827  0.070055  0.121789      0.0\n",
       "RaceHorses       BDRate  0.104166  0.102564  0.093448  0.113879      0.0\n",
       "FoodMarket4      BDRate  0.031574  0.013129 -0.014320  0.056194      0.0\n",
       "Johnny           BDRate  0.159793  0.098059  0.188839  0.092614      0.0"
      ]
     },
     "metadata": {},
     "output_type": "display_data"
    }
   ],
   "source": [
    "# MAIN\n",
    "analise_vvc_print()"
   ]
  }
 ],
 "metadata": {
  "kernelspec": {
   "display_name": "Python 3 (ipykernel)",
   "language": "python",
   "name": "python3"
  },
  "language_info": {
   "codemirror_mode": {
    "name": "ipython",
    "version": 3
   },
   "file_extension": ".py",
   "mimetype": "text/x-python",
   "name": "python",
   "nbconvert_exporter": "python",
   "pygments_lexer": "ipython3",
   "version": "3.10.6"
  }
 },
 "nbformat": 4,
 "nbformat_minor": 2
}
