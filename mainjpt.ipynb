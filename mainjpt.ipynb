{
 "cells": [
  {
   "cell_type": "code",
   "execution_count": 1,
   "metadata": {
    "scrolled": false
   },
   "outputs": [],
   "source": [
    "import os \n",
    "import ipywidgets as widgets\n",
    "from IPython.display import clear_output,display, HTML\n",
    "from source.commonlib import pathlist as pl\n",
    "from source.commonlib import analise as an"
   ]
  },
  {
   "cell_type": "code",
   "execution_count": 2,
   "metadata": {
    "hideCode": true,
    "scrolled": true
   },
   "outputs": [],
   "source": [
    "#CONSTANTS\n",
    "GPROF_DIR = \"outputTests/gprof_log/\"\n",
    "VVCLOG_DIR =  \"outputTests/vvc_log/\""
   ]
  },
  {
   "cell_type": "code",
   "execution_count": 3,
   "metadata": {
    "hideCode": true,
    "scrolled": true
   },
   "outputs": [],
   "source": [
    "#FUNCTIONS BUTTON\n",
    "\n",
    "#geral\n",
    "def on_button_clear_click(b):\n",
    "    clear_output()\n",
    "    analise_vvc_print()\n",
    "#vvc\n",
    "def on_button_print_click(b):\n",
    "    #listando todos os videos dentro das pastas das aproximacoes do valor aproximado\n",
    "    ##AJUSTAR DEPOIS \n",
    "    check_tags = []\n",
    "    if box1.value == True:\n",
    "        check_tags.append(box1.description)\n",
    "    if box2.value == True:\n",
    "        check_tags.append(box2.description)\n",
    "    if box3.value == True:\n",
    "        check_tags.append(box3.description)\n",
    "\n",
    "    an.analise(dropdown.value, VVCLOG_DIR, \"AI\",check_tags)  "
   ]
  },
  {
   "cell_type": "code",
   "execution_count": 4,
   "metadata": {
    "hideCode": true,
    "scrolled": true
   },
   "outputs": [],
   "source": [
    "# widgets VVC \n",
    "def analise_vvc_print():\n",
    "    display(HTML(\"<h2>Analise VVC</h2>\"))\n",
    "    display(dropdown, container, buttons)\n",
    "\n",
    "#widgets GPROF\n",
    "def analise_gprof_print():\n",
    "    display(HTML(\"<h1> Analise GPROF</h1>\"))"
   ]
  },
  {
   "cell_type": "code",
   "execution_count": 5,
   "metadata": {
    "hideCode": true,
    "scrolled": true
   },
   "outputs": [],
   "source": [
    "# ELEMENTS \n",
    "# Dropdown\n",
    "options_drop = pl.list_matrices(\"-\", VVCLOG_DIR)\n",
    "options_drop.remove(\"Precise\")\n",
    "options_drop.sort()\n",
    "\n",
    "dropdown = widgets.Dropdown(options=options_drop)\n",
    "\n",
    "# Buttons\n",
    "botao = widgets.Button(description='Imprimir')\n",
    "botao.on_click(on_button_print_click)\n",
    "\n",
    "botao_clear = widgets.Button(description='Clear')\n",
    "botao_clear.on_click(on_button_clear_click)\n",
    "\n",
    "buttons = widgets.HBox([botao, botao_clear])\n",
    "\n",
    "# Selection\n",
    "box1 = widgets.Checkbox(\n",
    "    description='Time',\n",
    "    disabled=False,\n",
    "    layout=widgets.Layout(width='auto', margin='5px'),\n",
    "    style={'description_width': 'initial'}\n",
    ")\n",
    "box2 = widgets.Checkbox(\n",
    "    description='Bitrate',\n",
    "    indent=False,\n",
    "    disabled=False,\n",
    "    layout=widgets.Layout(width='auto', margin ='5px'),\n",
    "    style={'description_width': 'initial'}\n",
    ")\n",
    "box3 = widgets.Checkbox(\n",
    "    description='PSNR',\n",
    "    indent=False,\n",
    "    disabled=False,\n",
    "    layout=widgets.Layout(width='auto', margin='5px'),\n",
    "    style={'description_width': 'initial'}\n",
    ")\n",
    "\n",
    "#caixa4 = widgets.Checkbox(description='BD-rate')\n",
    "\n",
    "container = widgets.HBox([box1, box2, box3])"
   ]
  },
  {
   "cell_type": "code",
   "execution_count": 6,
   "metadata": {
    "scrolled": false
   },
   "outputs": [
    {
     "data": {
      "text/html": [
       "<h2>Analise VVC</h2>"
      ],
      "text/plain": [
       "<IPython.core.display.HTML object>"
      ]
     },
     "metadata": {},
     "output_type": "display_data"
    },
    {
     "data": {
      "application/vnd.jupyter.widget-view+json": {
       "model_id": "85812bb6e41d4b90b356b182df9375e7",
       "version_major": 2,
       "version_minor": 0
      },
      "text/plain": [
       "Dropdown(index=3, options=('16x8', '4x8', '8x16', '8x4'), value='8x4')"
      ]
     },
     "metadata": {},
     "output_type": "display_data"
    },
    {
     "data": {
      "application/vnd.jupyter.widget-view+json": {
       "model_id": "b58e1b06d71e4eeb9c07e83ef5594e35",
       "version_major": 2,
       "version_minor": 0
      },
      "text/plain": [
       "HBox(children=(Checkbox(value=False, description='Time', layout=Layout(margin='5px', width='auto'), style=Chec…"
      ]
     },
     "metadata": {},
     "output_type": "display_data"
    },
    {
     "data": {
      "application/vnd.jupyter.widget-view+json": {
       "model_id": "3d0a445cad4d42949cba66fe75fc0cb7",
       "version_major": 2,
       "version_minor": 0
      },
      "text/plain": [
       "HBox(children=(Button(description='Imprimir', style=ButtonStyle()), Button(description='Clear', style=ButtonSt…"
      ]
     },
     "metadata": {},
     "output_type": "display_data"
    }
   ],
   "source": [
    "# MAIN\n",
    "analise_vvc_print()"
   ]
  },
  {
   "cell_type": "code",
   "execution_count": null,
   "metadata": {},
   "outputs": [],
   "source": []
  }
 ],
 "metadata": {
  "kernelspec": {
   "display_name": "Python 3 (ipykernel)",
   "language": "python",
   "name": "python3"
  },
  "language_info": {
   "codemirror_mode": {
    "name": "ipython",
    "version": 3
   },
   "file_extension": ".py",
   "mimetype": "text/x-python",
   "name": "python",
   "nbconvert_exporter": "python",
   "pygments_lexer": "ipython3",
   "version": "3.11.2"
  }
 },
 "nbformat": 4,
 "nbformat_minor": 2
}
