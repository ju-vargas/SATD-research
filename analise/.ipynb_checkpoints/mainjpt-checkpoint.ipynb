{
 "cells": [
  {
   "cell_type": "code",
   "execution_count": 1,
   "metadata": {
    "hideCode": false,
    "scrolled": true
   },
   "outputs": [],
   "source": [
    "import os \n",
    "import ipywidgets as widgets\n",
    "from IPython.display import clear_output,display, HTML\n",
    "from source.commonlib import pathlist as pl\n",
    "from source.commonlib import analise as an\n",
    "from source.commonlib import metric as mr\n",
    "from source.commonlib import analisegprof as agp\n",
    "\n",
    "import numpy as np"
   ]
  },
  {
   "cell_type": "code",
   "execution_count": 2,
   "metadata": {
    "hideCode": false,
    "scrolled": false
   },
   "outputs": [],
   "source": [
    "#CONSTANTS\n",
    "GPROF_DIR = \"outputTests/gprof_log/\"\n",
    "VVCLOG_DIR =  \"outputTests/vvc_log/\""
   ]
  },
  {
   "cell_type": "code",
   "execution_count": 3,
   "metadata": {
    "hideCode": false,
    "scrolled": false
   },
   "outputs": [],
   "source": [
    "#FUNCTIONS BUTTON\n",
    "def on_button_clear_vvc_click(b):\n",
    "    clear_output()\n",
    "    analise_vvc_print()\n",
    "    \n",
    "def on_button_clear_gprof_click(b):\n",
    "    clear_output()\n",
    "    analise_gprof_print()\n",
    "\n",
    "def on_button_vvc_print_click(b):\n",
    "    check_tags = []\n",
    "    if box1.value == True:\n",
    "        check_tags.append(box1.description)\n",
    "    if box2.value == True:\n",
    "        check_tags.append(box2.description)\n",
    "    if box3.value == True:\n",
    "        check_tags.append(box3.description)\n",
    "\n",
    "    bd_tags = []\n",
    "    if box4.value == True:\n",
    "        bd_tags.append(box4.description)\n",
    "    if box5.value == True:\n",
    "        bd_tags.append(box5.description)\n",
    "    \n",
    "    color_tags = []\n",
    "    if box6.value == True:\n",
    "        color_tags.append(box6.description)\n",
    "    if box7.value == True:\n",
    "        color_tags.append(box7.description)\n",
    "        \n",
    "    an.analise('vvc', dropdown.value, VVCLOG_DIR, \"AI\", check_tags, bd_tags, color_tags)  \n",
    "    \n",
    "def on_button_gprof_print_click(b):\n",
    "    an.analise('gprof', dropdown.value, VVCLOG_DIR, \"AI\",'','','')  \n"
   ]
  },
  {
   "cell_type": "code",
   "execution_count": 4,
   "metadata": {
    "hideCode": false,
    "hidePrompt": false,
    "scrolled": false
   },
   "outputs": [],
   "source": [
    "# widgets VVC \n",
    "def analise_vvc_print():\n",
    "    display(HTML(\"<h2>VVC</h2>\"))\n",
    "    display(container, container2)\n",
    "    display(buttons_vvc)\n",
    "\n",
    "def analise_gprof_print():\n",
    "    display(HTML(\"<h2>GPROF</h2>\"))\n",
    "    display(text_function)\n",
    "    display(text_class)\n",
    "    display(buttons_gprof)"
   ]
  },
  {
   "cell_type": "code",
   "execution_count": 5,
   "metadata": {},
   "outputs": [],
   "source": [
    "# ELEMENTS \n",
    "# Dropdown\n",
    "options_drop = pl.list_matrices(\"-\", VVCLOG_DIR)\n",
    "options_drop.remove(\"Precise\")\n",
    "options_drop.sort()\n",
    "\n",
    "dropdown = widgets.Dropdown(options=options_drop)\n",
    "\n",
    "# Buttons\n",
    "botao_vvc = widgets.Button(description='Print')\n",
    "botao_vvc.on_click(on_button_vvc_print_click)\n",
    "botao_vvc_clear = widgets.Button(description='Clear')\n",
    "botao_vvc_clear.on_click(on_button_clear_vvc_click)\n",
    "\n",
    "botao_gprof = widgets.Button(description='Print')\n",
    "botao_gprof.on_click(on_button_gprof_print_click)\n",
    "botao_gprof_clear = widgets.Button(description='Clear')\n",
    "botao_gprof_clear.on_click(on_button_clear_gprof_click)\n",
    "\n",
    "buttons_vvc = widgets.HBox([botao_vvc, botao_vvc_clear])\n",
    "buttons_gprof = widgets.HBox([botao_gprof, botao_gprof_clear])\n",
    "\n",
    "\n",
    "# Selection line1\n",
    "box1 = widgets.Checkbox(\n",
    "    description='Time',\n",
    "    indent=False,\n",
    "    disabled=False,\n",
    "    layout=widgets.Layout(width='auto', margin='5px'),\n",
    "    style={'description_width': 'initial'}\n",
    ")\n",
    "box2 = widgets.Checkbox(\n",
    "    description='Bitrate',\n",
    "    indent=False,\n",
    "    disabled=False,\n",
    "    layout=widgets.Layout(width='auto', margin ='5px'),\n",
    "    style={'description_width': 'initial'}\n",
    ")\n",
    "box3 = widgets.Checkbox(\n",
    "    description='PSNR',\n",
    "    indent=False,\n",
    "    disabled=False,\n",
    "    layout=widgets.Layout(width='auto', margin='5px'),\n",
    "    style={'description_width': 'initial'}\n",
    ")\n",
    "box4 = widgets.Checkbox(\n",
    "    description='BD-Rate',\n",
    "    indent=False,\n",
    "    disabled=False,\n",
    "    layout=widgets.Layout(width='auto', margin='5px'),\n",
    "    style={'description_width': 'initial'}\n",
    ")\n",
    "box5 = widgets.Checkbox(\n",
    "    description='BD-PSNR',\n",
    "    indent=False,\n",
    "    disabled=False,\n",
    "    layout=widgets.Layout(width='auto', margin='5px'),\n",
    "    style={'description_width': 'initial'}\n",
    ")\n",
    "\n",
    "\n",
    "#Selection line 2\n",
    "box6 = widgets.Checkbox(\n",
    "    description='Best values',\n",
    "    indent=False,\n",
    "    disabled=False,\n",
    "    layout=widgets.Layout(width='auto', margin='5px'),\n",
    "    style={'description_width': 'final'}\n",
    ")\n",
    "box7 = widgets.Checkbox(\n",
    "    description='Worst values',\n",
    "    indent=False,\n",
    "    disabled=False,\n",
    "    layout=widgets.Layout(width='auto', margin='5px'),\n",
    "    style={'description_width': 'final'}\n",
    ")\n",
    "\n",
    "#dropdown gprof\n",
    "#options_drop_gprof = ['1','2','3','4','5','6','7']\n",
    "#dropdown_gprof = widgets.Dropdown(options=options_drop_gprof)\n",
    "\n",
    "#FAZER FUNÇÃO E CLASSES SEREM DROPLISTS COM AS FUNÇÕES Q ESTÃO NO LOG\n",
    "#text box gprof\n",
    "text_function = widgets.Text(description='Função:', value='')\n",
    "text_class = widgets.Text(description='Classe:', value='')\n",
    "\n",
    "container = widgets.HBox([box1, box2, box3, box4, box5])\n",
    "container2 = widgets.HBox([box6, box7])"
   ]
  },
  {
   "cell_type": "code",
   "execution_count": 6,
   "metadata": {
    "hideCode": true,
    "hidePrompt": false
   },
   "outputs": [
    {
     "data": {
      "text/html": [
       "<h1>ANALISE</h1>"
      ],
      "text/plain": [
       "<IPython.core.display.HTML object>"
      ]
     },
     "metadata": {},
     "output_type": "display_data"
    },
    {
     "data": {
      "application/vnd.jupyter.widget-view+json": {
       "model_id": "84c14c44b4d54c349519ebf0a509a44b",
       "version_major": 2,
       "version_minor": 0
      },
      "text/plain": [
       "Dropdown(options=('16x8', '4x8', '8x16', '8x4'), value='16x8')"
      ]
     },
     "metadata": {},
     "output_type": "display_data"
    }
   ],
   "source": [
    "display(HTML(\"<h1>ANALISE</h1>\"))\n",
    "display(dropdown)\n"
   ]
  },
  {
   "cell_type": "code",
   "execution_count": 7,
   "metadata": {
    "hideCode": true,
    "scrolled": false
   },
   "outputs": [
    {
     "data": {
      "text/html": [
       "<h2>VVC</h2>"
      ],
      "text/plain": [
       "<IPython.core.display.HTML object>"
      ]
     },
     "metadata": {},
     "output_type": "display_data"
    },
    {
     "data": {
      "application/vnd.jupyter.widget-view+json": {
       "model_id": "953a35bab0db4f769563edda9cf3a701",
       "version_major": 2,
       "version_minor": 0
      },
      "text/plain": [
       "HBox(children=(Checkbox(value=False, description='Time', indent=False, layout=Layout(margin='5px', width='auto…"
      ]
     },
     "metadata": {},
     "output_type": "display_data"
    },
    {
     "data": {
      "application/vnd.jupyter.widget-view+json": {
       "model_id": "c22c1d1d12e1495e8abeca8a54f90c77",
       "version_major": 2,
       "version_minor": 0
      },
      "text/plain": [
       "HBox(children=(Checkbox(value=False, description='Best values', indent=False, layout=Layout(margin='5px', widt…"
      ]
     },
     "metadata": {},
     "output_type": "display_data"
    },
    {
     "data": {
      "application/vnd.jupyter.widget-view+json": {
       "model_id": "e8c01bb4355d44698fed10638745bab5",
       "version_major": 2,
       "version_minor": 0
      },
      "text/plain": [
       "HBox(children=(Button(description='Print', style=ButtonStyle()), Button(description='Clear', style=ButtonStyle…"
      ]
     },
     "metadata": {},
     "output_type": "display_data"
    }
   ],
   "source": [
    "# MAIN VVC\n",
    "analise_vvc_print()"
   ]
  },
  {
   "cell_type": "code",
   "execution_count": 8,
   "metadata": {
    "hideCode": true,
    "scrolled": false
   },
   "outputs": [
    {
     "data": {
      "text/html": [
       "<h2>GPROF</h2>"
      ],
      "text/plain": [
       "<IPython.core.display.HTML object>"
      ]
     },
     "metadata": {},
     "output_type": "display_data"
    },
    {
     "data": {
      "application/vnd.jupyter.widget-view+json": {
       "model_id": "6fd216b8190c4e33a4fe8152de0ce780",
       "version_major": 2,
       "version_minor": 0
      },
      "text/plain": [
       "Text(value='', description='Função:')"
      ]
     },
     "metadata": {},
     "output_type": "display_data"
    },
    {
     "data": {
      "application/vnd.jupyter.widget-view+json": {
       "model_id": "dba3180a002b4b2da087ecb1fdafee24",
       "version_major": 2,
       "version_minor": 0
      },
      "text/plain": [
       "Text(value='', description='Classe:')"
      ]
     },
     "metadata": {},
     "output_type": "display_data"
    },
    {
     "data": {
      "application/vnd.jupyter.widget-view+json": {
       "model_id": "2a65c99015314189b23dd7bbf274b38b",
       "version_major": 2,
       "version_minor": 0
      },
      "text/plain": [
       "HBox(children=(Button(description='Print', style=ButtonStyle()), Button(description='Clear', style=ButtonStyle…"
      ]
     },
     "metadata": {},
     "output_type": "display_data"
    }
   ],
   "source": [
    "#MAIN GPROF\n",
    "analise_gprof_print()"
   ]
  },
  {
   "cell_type": "code",
   "execution_count": null,
   "metadata": {},
   "outputs": [],
   "source": []
  },
  {
   "cell_type": "code",
   "execution_count": null,
   "metadata": {},
   "outputs": [],
   "source": []
  }
 ],
 "metadata": {
  "celltoolbar": "Hide code",
  "kernelspec": {
   "display_name": "Python 3 (ipykernel)",
   "language": "python",
   "name": "python3"
  },
  "language_info": {
   "codemirror_mode": {
    "name": "ipython",
    "version": 3
   },
   "file_extension": ".py",
   "mimetype": "text/x-python",
   "name": "python",
   "nbconvert_exporter": "python",
   "pygments_lexer": "ipython3",
   "version": "3.10.6"
  }
 },
 "nbformat": 4,
 "nbformat_minor": 2
}
