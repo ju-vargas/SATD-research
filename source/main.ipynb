{
 "cells": [
  {
   "cell_type": "markdown",
   "metadata": {},
   "source": [
    "## Analise logs SATD\n",
    "\n",
    "Funcionalidades: \n",
    "    \n",
    "    \n",
    "    Analise do gprof \n",
    "    \n",
    "        Por aproximação\n",
    "               Por vídeo e configuração\n",
    "                -- Funções mais utilizadas (mais chamadas) (por QP)\n",
    "                   - com gráfico\n",
    "                -- Funções que gastam mais tempo (por QP)\n",
    "\n",
    "\n",
    "    Analise do VVC log\n",
    "        \n",
    "        Por aproximação \n",
    "            -- bitrate\n",
    "            -- PSNR\n",
    "            -- tempo gasto \n",
    "    "
   ]
  },
  {
   "cell_type": "code",
   "execution_count": 1,
   "metadata": {
    "scrolled": true
   },
   "outputs": [],
   "source": [
    "from matplotlib import pyplot as plt\n",
    "from IPython.display import clear_output,display, HTML\n",
    "import numpy as np\n",
    "import pandas as pd\n",
    "import ipywidgets as widgets\n",
    "import os\n",
    "import glob"
   ]
  },
  {
   "cell_type": "code",
   "execution_count": 2,
   "metadata": {},
   "outputs": [],
   "source": [
    "#CONSTANTS\n",
    "GPROF_DIR = \"../outputTests/gprof_log/\"\n",
    "VVCLOG_DIR =  \"../outputTests/vvc_log/\"\n"
   ]
  },
  {
   "cell_type": "code",
   "execution_count": 3,
   "metadata": {},
   "outputs": [],
   "source": [
    "#CLASSES\n",
    "#class LogFunction: \n",
    "class LogVideo:\n",
    "    def __init__(self, config, qp, name, path):\n",
    "        self.config = config\n",
    "        self.QP = qp\n",
    "        self.name = name\n",
    "        self.path = path\n",
    "        #self.m_used_functions = []\n",
    "        self.time = None\n",
    "        self.bitrate = None\n",
    "        self.BD_rate = None\n",
    "        self.PSNR = None\n",
    "            \n",
    "    def get_config(self):\n",
    "        return self.config\n",
    "            \n",
    "    def get_QP(self):\n",
    "        return self.QP\n",
    "        \n",
    "    def get_name(self):   \n",
    "        return self.name\n",
    "    \n",
    "    def set_time(self,time):\n",
    "        self.time = time\n",
    "       \n",
    "    def get_time(self):\n",
    "        return self.time\n",
    "        \n",
    "    def set_bdrate(self, bdrate):\n",
    "        self.BD_rate = bdrate\n",
    "            \n",
    "    def get_bdrate(self):\n",
    "        return self.BD_rate\n",
    "    \n",
    "    def set_bitrate(self, bitrate):\n",
    "        self.bitrate = bitrate\n",
    "            \n",
    "    def get_bitrate(self):\n",
    "        return self.bitrate\n",
    "            \n",
    "    def set_PSNR(self, PSNR):\n",
    "        self.PSNR = PSNR\n",
    "            \n",
    "    def get_PSNR(self):\n",
    "        return self.PSNR\n",
    "   \n",
    "        \n",
    "class Video:\n",
    "    def __init__(self, name, path):\n",
    "        self.name = name \n",
    "        self.path = path\n",
    "        self.logs_AI = []\n",
    "        self.logs_RA = []\n",
    "        self.logs_LB = []\n",
    "        \n",
    "    def get_name(self): \n",
    "        return self.name\n",
    "\n",
    "    def get_path(self):\n",
    "        return self.path\n",
    "    \n",
    "    def get_logs(self, config):\n",
    "        match config:\n",
    "            case \"AI\":\n",
    "                return self.logs_AI\n",
    "            case \"RA\":\n",
    "                return self.logs_RA\n",
    "            case \"LB\":\n",
    "                return self.logs_LB\n",
    "            case _:\n",
    "                return false           \n",
    "            \n",
    "    ###\n",
    "    #funcao add logs config\n",
    "    # vai na pasta, cria os logVideo e preenche\n",
    "            \n",
    "    def add_logs(self, config):\n",
    "        path_logs = self.path + config + '/'\n",
    "        \n",
    "        #list logs in a specif configuration folder\n",
    "        logs_list = os.listdir(path_logs)\n",
    "        \n",
    "        #fill config logs list\n",
    "        #percorre os logs e vai preenchendo de acordo com o q ta na pasta \n",
    "        for log_item in logs_list:\n",
    "            qp_item = log_item.split(\"_\")[2]  \n",
    "            qp_item_n = qp_item.split(\"p\")[1]\n",
    "            \n",
    "            log_video = LogVideo(config,qp_item_n, log_item, path_logs)\n",
    "        \n",
    "            #aq eu preciso chamar outras funcoes pra preencher o resto dos dados dos logs\n",
    "            #aquelas funcoes q pegam funcoes mais chamadas, tempo etc ect \n",
    "            get_data_vvc(path_logs + log_item, log_video)\n",
    "            print(log_video.get_bitrate())\n",
    "            print(log_video.get_PSNR())\n",
    "            print(log_video.get_time())\n",
    "    \n",
    "    \n",
    "        \n",
    "            #coloca na lista\n",
    "            match config:\n",
    "                case \"AI\":\n",
    "                    self.logs_AI.append(log_video)\n",
    "                case \"RA\":\n",
    "                    self.logs_RA.append(log_video)\n",
    "                case \"LB\":\n",
    "                    self.logs_LB.append(log_video)    \n",
    "    \n",
    "class Aproximation:\n",
    "    def __init__(self, size, aprox_type, path):\n",
    "        self.size = size\n",
    "        self.aprox_type = aprox_type\n",
    "        self.path = path\n",
    "        self.videos = []\n",
    "\n",
    "    def add_video(self, video):\n",
    "        self.videos.append(video)\n",
    "        \n",
    "    def get_size(self):\n",
    "        return self.size\n",
    "    \n",
    "    def get_type(self):\n",
    "        return self.aprox_type\n",
    "    \n",
    "    def get_path(self):\n",
    "        return self.path\n",
    "    \n",
    "    #returns list\n",
    "    def get_videos(self):\n",
    "        return self.videos\n",
    "\n",
    "class Matrix: \n",
    "    def __init__(self, size):\n",
    "        self.size = size\n",
    "        self.aprox_list = []\n",
    "        \n",
    "    #add a new aprox (-1, -2, -3...)\n",
    "    def add_aprox(self, aprox):\n",
    "        self.aprox_list.append(aprox)\n",
    "        \n",
    "    def get_aproximations(self):\n",
    "        return self.aprox_list\n",
    "    "
   ]
  },
  {
   "cell_type": "code",
   "execution_count": 4,
   "metadata": {},
   "outputs": [],
   "source": [
    "#FUNCTIONS SYSTEM\n",
    "#list all matrices\n",
    "def list_matrices(terminator, folder):\n",
    "    items = os.listdir(folder)\n",
    "    names = []\n",
    "    for item in items:\n",
    "        if os.path.isdir(os.path.join(folder, item)):\n",
    "            prefix = item.split(terminator)[0]  \n",
    "            if prefix not in names:  \n",
    "                names.append(prefix)\n",
    "    return names\n",
    "    \n",
    "#list all aproximations of a matrix researched\n",
    "def list_aproximations(prefix, terminator, folder):\n",
    "    items = os.listdir(folder)\n",
    "    names = []\n",
    "    for item in items:\n",
    "        if os.path.isdir(os.path.join(folder, item)):\n",
    "            prefix_item = item.split(terminator)[0]\n",
    "            if prefix_item == prefix: \n",
    "                names.append(item)\n",
    "    return names\n",
    "    \n",
    "    \n",
    "#list all videos from a aprox folder\n",
    "def list_videos(aprox_folder):\n",
    "    videos = os.listdir(aprox_folder)\n",
    "    return videos\n",
    "    "
   ]
  },
  {
   "cell_type": "code",
   "execution_count": 5,
   "metadata": {},
   "outputs": [],
   "source": [
    "#FUNCTIONS GPROF LOG\n",
    "#returns the most used functions list \n",
    "def get_m_used_functions(file_gprof, number_of_itens):\n",
    "    #--> ordenar funcoes de acordo com o nome (tipo aquele filtro) e devolver o objeto funcoes\n",
    "    return void\n",
    "\n",
    " "
   ]
  },
  {
   "cell_type": "code",
   "execution_count": 6,
   "metadata": {},
   "outputs": [],
   "source": [
    "#FUNCTIONS VVCLOG\n",
    "def get_data_vvc(file_path, video_log):\n",
    "    with open(file_path, 'r') as f:\n",
    "        next = False\n",
    "        for line in f:\n",
    "            if \"Total Frames\" in line:\n",
    "                next = True\n",
    "            \n",
    "            else: \n",
    "                if next:\n",
    "                    data = ((line.strip().split(\"a\")[1]).strip()).split()\n",
    "                    \n",
    "                    #teste = data.split()\n",
    "                    video_log.set_bitrate(data[0])\n",
    "                    \n",
    "                    #PSNR YUV(??)\n",
    "                    video_log.set_PSNR(data[4])\n",
    "\n",
    "                    next = False\n",
    "                    \n",
    "            if \"Total Time\" in line:\n",
    "                #elapsed(??)\n",
    "                time = (line.strip().split()[2])\n",
    "                video_log.set_time(time)"
   ]
  },
  {
   "cell_type": "code",
   "execution_count": 7,
   "metadata": {},
   "outputs": [],
   "source": [
    "#FUNCTIONS PRINT TABLE\n",
    "\n",
    "#make the table according the param\n",
    "def print_table_vvc(videos, param, qps, aproximations):\n",
    "    #imprime tabela dos videos\n",
    "    #df = pd.DataFrame(videos, columns=[aproximation])\n",
    "    #display(df)\n",
    "    return void\n",
    "\n",
    "def print_table_gprog():\n",
    "    return void"
   ]
  },
  {
   "cell_type": "code",
   "execution_count": 8,
   "metadata": {},
   "outputs": [],
   "source": [
    "#FUNCTIONS\n",
    "#returns the analise\n",
    "def analise(matrix_size, folder):\n",
    "    \n",
    "    #new matrix according dropdown\n",
    "    matrix = Matrix(matrix_size)\n",
    "    \n",
    "    #find all aproximations for the matrix and fill object\n",
    "    aproximations_list = list_aproximations(matrix_size, \"-\",folder)\n",
    "\n",
    "    for aproximation in aproximations_list:\n",
    "        aprox_type = aproximation.split(\"-\")[2]\n",
    "        aprox_folder = folder + aproximation + \"/\"\n",
    "        \n",
    "        #new object Aproximation\n",
    "        aprox = Aproximation(matrix_size, aprox_type, aprox_folder)\n",
    "        \n",
    "        #fill aproximation videos list\n",
    "        videos_list = list_videos(aprox.get_path())\n",
    "        for item in videos_list:\n",
    "            video = Video(item, aprox.get_path() + item + '/')  \n",
    "            \n",
    "            #fill logs for the video\n",
    "            configs_list = os.listdir(aprox.get_path() + item + '/')\n",
    "            for item_config in configs_list:\n",
    "                video.add_logs(item_config)\n",
    "            \n",
    "            aprox.add_video(video)\n",
    "                    \n",
    "        #add video to matrix\n",
    "        matrix.add_aprox(aprox)\n",
    "    \n",
    "    \n",
    "    #TESTE\n",
    "    #usar esse teste como base pra montar a tabela depois\n",
    "    #analise chama funcao q faz dataframe com os dados e que retorna dataframe\n",
    "    #analise retorna esse dataframe \n",
    "    #botao chama funcao que faz tabela com esse dataframe \n",
    "    aprox_test = matrix.get_aproximations()\n",
    "    #itera as aproximacoes \n",
    "    for aprox_item in aprox_test:\n",
    "        print(\"-\" + aprox_item.get_type())\n",
    "            \n",
    "        #itera os videos dentro das aproximacoes\n",
    "        video_test = aprox_item.get_videos()\n",
    "        for video_item in video_test:\n",
    "            print(video_item.get_name() + \":\")\n",
    "\n",
    "            logs_test = video_item.get_logs(\"AI\")\n",
    "            for log_item in logs_test:\n",
    "                print(log_item.get_QP())"
   ]
  },
  {
   "cell_type": "code",
   "execution_count": 9,
   "metadata": {},
   "outputs": [],
   "source": [
    "#FUNCTIONS WIDGETS\n",
    "\n",
    "#geral\n",
    "def on_button_clear_click(b):\n",
    "    clear_output()\n",
    "    analise_vvc_print()\n",
    "#vvc\n",
    "def on_button_print_click(b):\n",
    "    #listando todos os videos dentro das pastas das aproximacoes do valor aproximado\n",
    "    analise(dropdown.value, VVCLOG_DIR)  \n",
    "    \n",
    "\n",
    " "
   ]
  },
  {
   "cell_type": "code",
   "execution_count": 10,
   "metadata": {
    "scrolled": false
   },
   "outputs": [],
   "source": [
    "# widgets VVC \n",
    "def analise_vvc_print():\n",
    "    display(HTML(\"<h2>Analise VVC</h2>\"))\n",
    "    display(dropdown, botao, botao_clear)\n",
    "\n",
    "#widgets GPROF\n",
    "def analise_gprof_print():\n",
    "    display(HTML(\"<h2> Analise GPROF</h2>\"))\n",
    "    "
   ]
  },
  {
   "cell_type": "code",
   "execution_count": 11,
   "metadata": {
    "scrolled": false
   },
   "outputs": [
    {
     "data": {
      "text/html": [
       "<h2>Analise VVC</h2>"
      ],
      "text/plain": [
       "<IPython.core.display.HTML object>"
      ]
     },
     "metadata": {},
     "output_type": "display_data"
    },
    {
     "data": {
      "application/vnd.jupyter.widget-view+json": {
       "model_id": "897c32ba98f648198a2954b2e9cd71e3",
       "version_major": 2,
       "version_minor": 0
      },
      "text/plain": [
       "Dropdown(options=('8x16', '16x8'), value='8x16')"
      ]
     },
     "metadata": {},
     "output_type": "display_data"
    },
    {
     "data": {
      "application/vnd.jupyter.widget-view+json": {
       "model_id": "f7decabac1564c6090899340decf08e0",
       "version_major": 2,
       "version_minor": 0
      },
      "text/plain": [
       "Button(description='Imprimir', style=ButtonStyle())"
      ]
     },
     "metadata": {},
     "output_type": "display_data"
    },
    {
     "data": {
      "application/vnd.jupyter.widget-view+json": {
       "model_id": "0056db80a5994462a8e9d84e319b3d7c",
       "version_major": 2,
       "version_minor": 0
      },
      "text/plain": [
       "Button(description='Clear', style=ButtonStyle())"
      ]
     },
     "metadata": {},
     "output_type": "display_data"
    },
    {
     "ename": "NameError",
     "evalue": "name 'file' is not defined",
     "output_type": "error",
     "traceback": [
      "\u001b[0;31m---------------------------------------------------------------------------\u001b[0m",
      "\u001b[0;31mNameError\u001b[0m                                 Traceback (most recent call last)",
      "Cell \u001b[0;32mIn[9], line 10\u001b[0m, in \u001b[0;36mon_button_print_click\u001b[0;34m(b)\u001b[0m\n\u001b[1;32m      8\u001b[0m \u001b[38;5;28;01mdef\u001b[39;00m \u001b[38;5;21mon_button_print_click\u001b[39m(b):\n\u001b[1;32m      9\u001b[0m     \u001b[38;5;66;03m#listando todos os videos dentro das pastas das aproximacoes do valor aproximado\u001b[39;00m\n\u001b[0;32m---> 10\u001b[0m     \u001b[43manalise\u001b[49m\u001b[43m(\u001b[49m\u001b[43mdropdown\u001b[49m\u001b[38;5;241;43m.\u001b[39;49m\u001b[43mvalue\u001b[49m\u001b[43m,\u001b[49m\u001b[43m \u001b[49m\u001b[43mVVCLOG_DIR\u001b[49m\u001b[43m)\u001b[49m\n",
      "Cell \u001b[0;32mIn[8], line 26\u001b[0m, in \u001b[0;36manalise\u001b[0;34m(matrix_size, folder)\u001b[0m\n\u001b[1;32m     24\u001b[0m     configs_list \u001b[38;5;241m=\u001b[39m os\u001b[38;5;241m.\u001b[39mlistdir(aprox\u001b[38;5;241m.\u001b[39mget_path() \u001b[38;5;241m+\u001b[39m item \u001b[38;5;241m+\u001b[39m \u001b[38;5;124m'\u001b[39m\u001b[38;5;124m/\u001b[39m\u001b[38;5;124m'\u001b[39m)\n\u001b[1;32m     25\u001b[0m     \u001b[38;5;28;01mfor\u001b[39;00m item_config \u001b[38;5;129;01min\u001b[39;00m configs_list:\n\u001b[0;32m---> 26\u001b[0m         \u001b[43mvideo\u001b[49m\u001b[38;5;241;43m.\u001b[39;49m\u001b[43madd_logs\u001b[49m\u001b[43m(\u001b[49m\u001b[43mitem_config\u001b[49m\u001b[43m)\u001b[49m\n\u001b[1;32m     28\u001b[0m     aprox\u001b[38;5;241m.\u001b[39madd_video(video)\n\u001b[1;32m     30\u001b[0m \u001b[38;5;66;03m#add video to matrix\u001b[39;00m\n",
      "Cell \u001b[0;32mIn[3], line 94\u001b[0m, in \u001b[0;36mVideo.add_logs\u001b[0;34m(self, config)\u001b[0m\n\u001b[1;32m     90\u001b[0m log_video \u001b[38;5;241m=\u001b[39m LogVideo(config,qp_item_n, log_item, path_logs)\n\u001b[1;32m     92\u001b[0m \u001b[38;5;66;03m#aq eu preciso chamar outras funcoes pra preencher o resto dos dados dos logs\u001b[39;00m\n\u001b[1;32m     93\u001b[0m \u001b[38;5;66;03m#aquelas funcoes q pegam funcoes mais chamadas, tempo etc ect \u001b[39;00m\n\u001b[0;32m---> 94\u001b[0m \u001b[43mget_data_vvc\u001b[49m\u001b[43m(\u001b[49m\u001b[43mpath_logs\u001b[49m\u001b[43m \u001b[49m\u001b[38;5;241;43m+\u001b[39;49m\u001b[43m \u001b[49m\u001b[43mlog_item\u001b[49m\u001b[43m,\u001b[49m\u001b[43m \u001b[49m\u001b[43mlog_video\u001b[49m\u001b[43m)\u001b[49m\n\u001b[1;32m     95\u001b[0m \u001b[38;5;28mprint\u001b[39m(log_video\u001b[38;5;241m.\u001b[39mget_bitrate())\n\u001b[1;32m     96\u001b[0m \u001b[38;5;28mprint\u001b[39m(log_video\u001b[38;5;241m.\u001b[39mget_PSNR())\n",
      "Cell \u001b[0;32mIn[6], line 3\u001b[0m, in \u001b[0;36mget_data_vvc\u001b[0;34m(file_path, video_log)\u001b[0m\n\u001b[1;32m      2\u001b[0m \u001b[38;5;28;01mdef\u001b[39;00m \u001b[38;5;21mget_data_vvc\u001b[39m(file_path, video_log):\n\u001b[0;32m----> 3\u001b[0m     \u001b[38;5;28;01mwith\u001b[39;00m \u001b[38;5;28mopen\u001b[39m(\u001b[43mfile\u001b[49m, \u001b[38;5;124m'\u001b[39m\u001b[38;5;124mr\u001b[39m\u001b[38;5;124m'\u001b[39m) \u001b[38;5;28;01mas\u001b[39;00m f:\n\u001b[1;32m      4\u001b[0m         \u001b[38;5;28mnext\u001b[39m \u001b[38;5;241m=\u001b[39m \u001b[38;5;28;01mFalse\u001b[39;00m\n\u001b[1;32m      5\u001b[0m         \u001b[38;5;28;01mfor\u001b[39;00m line \u001b[38;5;129;01min\u001b[39;00m f:\n",
      "\u001b[0;31mNameError\u001b[0m: name 'file' is not defined"
     ]
    }
   ],
   "source": [
    "#MAIN \n",
    "# Dropdown\n",
    "# preciso adicionar opcao de comparar com o PRECISE depois\n",
    "# preciso ver quando vou mandar VVC e quando vou mandar GPROF\n",
    "options_drop = list_matrices(\"-\", VVCLOG_DIR)\n",
    "options_drop.remove(\"Precise\")\n",
    "dropdown = widgets.Dropdown(options=options_drop)\n",
    "\n",
    "# Buttons\n",
    "botao = widgets.Button(description='Imprimir')\n",
    "botao.on_click(on_button_print_click)\n",
    "\n",
    "botao_clear = widgets.Button(description='Clear')\n",
    "botao_clear.on_click(on_button_clear_click)\n",
    "\n",
    "# Print\n",
    "analise_vvc_print()\n"
   ]
  },
  {
   "cell_type": "code",
   "execution_count": null,
   "metadata": {},
   "outputs": [],
   "source": []
  },
  {
   "cell_type": "code",
   "execution_count": null,
   "metadata": {},
   "outputs": [],
   "source": []
  }
 ],
 "metadata": {
  "kernelspec": {
   "display_name": "Python 3 (ipykernel)",
   "language": "python",
   "name": "python3"
  },
  "language_info": {
   "codemirror_mode": {
    "name": "ipython",
    "version": 3
   },
   "file_extension": ".py",
   "mimetype": "text/x-python",
   "name": "python",
   "nbconvert_exporter": "python",
   "pygments_lexer": "ipython3",
   "version": "3.10.6"
  }
 },
 "nbformat": 4,
 "nbformat_minor": 1
}
