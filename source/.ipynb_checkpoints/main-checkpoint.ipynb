{
 "cells": [
  {
   "cell_type": "markdown",
   "metadata": {},
   "source": [
    "## Analise logs SATD\n",
    "\n",
    "Funcionalidades: \n",
    "    \n",
    "    \n",
    "    Analise do gprof \n",
    "    \n",
    "        Por aproximação\n",
    "               Por vídeo e configuração\n",
    "                -- Funções mais utilizadas (mais chamadas) (por QP)\n",
    "                   - com gráfico\n",
    "                -- Funções que gastam mais tempo (por QP)\n",
    "\n",
    "\n",
    "    Analise do VVC log\n",
    "        \n",
    "        Por aproximação \n",
    "            -- bitrate\n",
    "            -- PSNR\n",
    "            -- tempo gasto \n",
    "    "
   ]
  },
  {
   "cell_type": "code",
   "execution_count": null,
   "metadata": {},
   "outputs": [],
   "source": [
    "a = 10\n",
    "print(a)"
   ]
  },
  {
   "cell_type": "code",
   "execution_count": null,
   "metadata": {},
   "outputs": [],
   "source": []
  }
 ],
 "metadata": {},
 "nbformat": 4,
 "nbformat_minor": 1
}
