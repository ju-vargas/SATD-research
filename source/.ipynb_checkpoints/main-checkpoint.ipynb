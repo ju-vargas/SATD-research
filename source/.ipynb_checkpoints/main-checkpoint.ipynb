{
 "cells": [
  {
   "cell_type": "markdown",
   "metadata": {},
   "source": [
    "## Analise logs SATD\n",
    "\n",
    "    \n",
    "falta implementar    \n",
    "    Analise do gprof \n",
    "    \n",
    "        Por aproximação\n",
    "               Por vídeo e configuração\n",
    "                -- Funções mais utilizadas (mais chamadas) (por QP)\n",
    "                   - com gráfico\n",
    "                -- Funções que gastam mais tempo (por QP)\n"
   ]
  },
  {
   "cell_type": "code",
   "execution_count": 1,
   "metadata": {
    "scrolled": true,
    "tags": [
     "hide_input"
    ]
   },
   "outputs": [],
   "source": [
    "from matplotlib import pyplot as plt\n",
    "from IPython.display import clear_output,display, HTML\n",
    "import numpy as np\n",
    "import pandas as pd\n",
    "import ipywidgets as widgets\n",
    "import os\n",
    "import glob"
   ]
  },
  {
   "cell_type": "code",
   "execution_count": 2,
   "metadata": {
    "tags": [
     "hide_input"
    ]
   },
   "outputs": [],
   "source": [
    "#CONSTANTS\n",
    "GPROF_DIR = \"../outputTests/gprof_log/\"\n",
    "VVCLOG_DIR =  \"../outputTests/vvc_log/\""
   ]
  },
  {
   "cell_type": "code",
   "execution_count": 3,
   "metadata": {
    "slideshow": {
     "slide_type": "-"
    },
    "tags": [
     "hide_input"
    ]
   },
   "outputs": [],
   "source": [
    "#CLASSES\n",
    "#class LogFunction: \n",
    "class LogVideo:\n",
    "    def __init__(self, config, qp, name, path):\n",
    "        self.config = config\n",
    "        self.QP = qp\n",
    "        self.name = name\n",
    "        self.path = path\n",
    "        #self.m_used_functions = []\n",
    "        self.time = None\n",
    "        self.bitrate = None\n",
    "        self.BD_rate = None\n",
    "        self.PSNR = None\n",
    "            \n",
    "    def get_config(self):\n",
    "        return self.config\n",
    "            \n",
    "    def get_QP(self):\n",
    "        return self.QP\n",
    "        \n",
    "    def get_name(self):   \n",
    "        return self.name\n",
    "    \n",
    "    def set_time(self,time):\n",
    "        self.time = time\n",
    "       \n",
    "    def get_time(self):\n",
    "        return self.time\n",
    "        \n",
    "    def set_bdrate(self, bdrate):\n",
    "        self.BD_rate = bdrate\n",
    "            \n",
    "    def get_bdrate(self):\n",
    "        return self.BD_rate\n",
    "    \n",
    "    def set_bitrate(self, bitrate):\n",
    "        self.bitrate = bitrate\n",
    "            \n",
    "    def get_bitrate(self):\n",
    "        return self.bitrate\n",
    "            \n",
    "    def set_PSNR(self, PSNR):\n",
    "        self.PSNR = PSNR\n",
    "            \n",
    "    def get_PSNR(self):\n",
    "        return self.PSNR\n",
    "   \n",
    "        \n",
    "class Video:\n",
    "    def __init__(self, name, path):\n",
    "        self.name = name \n",
    "        self.path = path\n",
    "        self.logs_AI = []\n",
    "        self.logs_RA = []\n",
    "        self.logs_LB = []\n",
    "        \n",
    "    def get_name(self): \n",
    "        return self.name\n",
    "\n",
    "    def get_path(self):\n",
    "        return self.path\n",
    "    \n",
    "    def get_logs(self, config):\n",
    "        match config:\n",
    "            case \"AI\":\n",
    "                return self.logs_AI\n",
    "            case \"RA\":\n",
    "                return self.logs_RA\n",
    "            case \"LB\":\n",
    "                return self.logs_LB\n",
    "            case _:\n",
    "                return false           \n",
    "            \n",
    "    ###\n",
    "    #funcao add logs config\n",
    "    # vai na pasta, cria os logVideo e preenche\n",
    "            \n",
    "    def add_logs(self, config):\n",
    "        path_logs = self.path + config + '/'\n",
    "        \n",
    "        #list logs in a specif configuration folder\n",
    "        logs_list = os.listdir(path_logs)\n",
    "        \n",
    "        #fill config logs list\n",
    "        #percorre os logs e vai preenchendo de acordo com o q ta na pasta \n",
    "        for log_item in logs_list:\n",
    "            qp_item = log_item.split(\"_\")[2]  \n",
    "            qp_item_n = qp_item.split(\"p\")[1]\n",
    "            \n",
    "            log_video = LogVideo(config,qp_item_n, log_item, path_logs)\n",
    "        \n",
    "            #aq eu preciso chamar outras funcoes pra preencher o resto dos dados dos logs\n",
    "            #aquelas funcoes q pegam funcoes mais chamadas, tempo etc ect \n",
    "            get_data_vvc(path_logs + log_item, log_video)\n",
    "            #print(log_video.get_bitrate())\n",
    "            #print(log_video.get_PSNR())\n",
    "            #print(log_video.get_time())    \n",
    "        \n",
    "            #coloca na lista\n",
    "            match config:\n",
    "                case \"AI\":\n",
    "                    self.logs_AI.append(log_video)\n",
    "                case \"RA\":\n",
    "                    self.logs_RA.append(log_video)\n",
    "                case \"LB\":\n",
    "                    self.logs_LB.append(log_video)    \n",
    "    \n",
    "class Aproximation:\n",
    "    def __init__(self, size, aprox_type, path):\n",
    "        self.size = size\n",
    "        self.aprox_type = aprox_type\n",
    "        self.path = path\n",
    "        self.videos = []\n",
    "\n",
    "    def add_video(self, video):\n",
    "        self.videos.append(video)\n",
    "        \n",
    "    def get_size(self):\n",
    "        return self.size\n",
    "    \n",
    "    def get_type(self):\n",
    "        return self.aprox_type\n",
    "    \n",
    "    def get_path(self):\n",
    "        return self.path\n",
    "    \n",
    "    #returns list\n",
    "    def get_videos(self):\n",
    "        return self.videos\n",
    "\n",
    "class Matrix: \n",
    "    def __init__(self, size):\n",
    "        self.size = size\n",
    "        self.aprox_list = []\n",
    "        \n",
    "    #add a new aprox (-1, -2, -3...)\n",
    "    def add_aprox(self, aprox):\n",
    "        self.aprox_list.append(aprox)\n",
    "        \n",
    "    def get_aproximations(self):\n",
    "        return self.aprox_list\n",
    "    \n",
    "    "
   ]
  },
  {
   "cell_type": "code",
   "execution_count": 4,
   "metadata": {
    "tags": [
     "hide_input"
    ]
   },
   "outputs": [],
   "source": [
    "#FUNCTIONS SYSTEM\n",
    "#list all matrices\n",
    "def list_matrices(terminator, folder):\n",
    "    items = os.listdir(folder)\n",
    "    names = []\n",
    "    for item in items:\n",
    "        if os.path.isdir(os.path.join(folder, item)):\n",
    "            prefix = item.split(terminator)[0]  \n",
    "            if prefix not in names:  \n",
    "                names.append(prefix)\n",
    "    return names\n",
    "    \n",
    "#list all aproximations of a matrix researched\n",
    "def list_aproximations(prefix, terminator, folder):\n",
    "    items = os.listdir(folder)\n",
    "    names = []\n",
    "    for item in items:\n",
    "        if os.path.isdir(os.path.join(folder, item)):\n",
    "            prefix_item = item.split(terminator)[0]\n",
    "            if prefix_item == prefix: \n",
    "                names.append(item)\n",
    "    return names\n",
    "    \n",
    "    \n",
    "#list all videos from a aprox folder\n",
    "def list_videos(aprox_folder):\n",
    "    videos = os.listdir(aprox_folder)\n",
    "    return videos\n",
    "    "
   ]
  },
  {
   "cell_type": "code",
   "execution_count": 5,
   "metadata": {
    "tags": [
     "hide_input"
    ]
   },
   "outputs": [],
   "source": [
    "#FUNCTIONS GPROF LOG\n",
    "#returns the most used functions list \n",
    "def get_m_used_functions(file_gprof, number_of_itens):\n",
    "    #--> ordenar funcoes de acordo com o nome (tipo aquele filtro) e devolver o objeto funcoes\n",
    "    return void\n",
    "\n",
    " "
   ]
  },
  {
   "cell_type": "code",
   "execution_count": 6,
   "metadata": {
    "tags": [
     "hide_input"
    ]
   },
   "outputs": [],
   "source": [
    "#FUNCTIONS VVCLOG\n",
    "def get_data_vvc(file_path, video_log):\n",
    "    with open(file_path, 'r') as f:\n",
    "        next = False\n",
    "        for line in f:\n",
    "            if \"Total Frames\" in line:\n",
    "                next = True\n",
    "            \n",
    "            else: \n",
    "                if next:\n",
    "                    data = ((line.strip().split(\"a\")[1]).strip()).split()\n",
    "                    \n",
    "                    #teste = data.split()\n",
    "                    video_log.set_bitrate(data[0])\n",
    "                    \n",
    "                    #PSNR YUV(??)\n",
    "                    video_log.set_PSNR(data[4])\n",
    "\n",
    "                    next = False\n",
    "                    \n",
    "            if \"Total Time\" in line:\n",
    "                #elapsed(??)\n",
    "                time = (line.strip().split()[2])\n",
    "                video_log.set_time(time)"
   ]
  },
  {
   "cell_type": "code",
   "execution_count": 31,
   "metadata": {
    "tags": [
     "hide_input"
    ]
   },
   "outputs": [],
   "source": [
    "#FUNCTIONS PRINT TABLE\n",
    "\n",
    "#make the table according the param\n",
    "def print_table_vvc(matrix, videos, config, check_tags):\n",
    "    \n",
    "    aprox_list = []\n",
    "    aproximations = matrix.get_aproximations()\n",
    "    for aproximation in aproximations:\n",
    "        if aproximation.get_type() != \"Precise\":\n",
    "            aprox_list.append(\"-\" + aproximation.get_type())\n",
    "        else: \n",
    "            aprox_list.append(aproximation.get_type())\n",
    "\n",
    "    \n",
    "    videos_list = []\n",
    "    tags_list = []\n",
    "    qp_list = []\n",
    "    \n",
    "    for video in videos:\n",
    "        for tag in check_tags:\n",
    "            videos_list.append(video)\n",
    "            videos_list.append(video)\n",
    "            videos_list.append(video)\n",
    "            videos_list.append(video)\n",
    "\n",
    "        for tag in check_tags:\n",
    "            qp_list.append(22)\n",
    "        \n",
    "        for tag in check_tags:\n",
    "            tags_list.append(tag)\n",
    "          \n",
    "        for tag in check_tags:\n",
    "            qp_list.append(27)\n",
    "        \n",
    "        for tag in check_tags:\n",
    "            tags_list.append(tag)\n",
    "        \n",
    "        for tag in check_tags:\n",
    "            qp_list.append(32)\n",
    "        \n",
    "        for tag in check_tags:\n",
    "            tags_list.append(tag)\n",
    "        \n",
    "        for tag in check_tags:\n",
    "            qp_list.append(37)\n",
    "        \n",
    "        for tag in check_tags:\n",
    "            tags_list.append(tag)\n",
    "    aprox_list.sort()\n",
    "\n",
    "    #index table\n",
    "    arrays = [\n",
    "        np.array(videos_list),\n",
    "        np.array(qp_list),\n",
    "        np.array(tags_list),\n",
    "    ]\n",
    "    \n",
    "    #content table\n",
    "    data = []\n",
    "\n",
    "    for aproximation in aproximations:\n",
    "        #crio a lista pra aproximacao \n",
    "        data_column = []\n",
    "\n",
    "        #pego os videos da respectiva aproximacao\n",
    "        aprox_videos =  aproximation.get_videos()\n",
    "        \n",
    "        #pra cada video, pego os 4 logs da config escolhida\n",
    "        logs_list = []\n",
    "        for video in aprox_videos:\n",
    "            \n",
    "            logs_list = video.get_logs(config)\n",
    "            \n",
    "            #pra cada log, adiciono os 4 valores na lista \n",
    "            for log in logs_list:\n",
    "                if 'Time' in check_tags:\n",
    "                    data_column.append(log.get_time())\n",
    "                \n",
    "                if \"Bitrate\" in check_tags:\n",
    "                    data_column.append(log.get_bitrate())\n",
    "                \n",
    "                if \"PSNR\" in check_tags:\n",
    "                    data_column.append(log.get_PSNR())                    \n",
    "        data.append(data_column)\n",
    "    \n",
    "    data = np.transpose(data)\n",
    "    \n",
    "    #display all table\n",
    "    pd.set_option('display.max_rows', None)\n",
    "    df = pd.DataFrame(np.array(data), index=arrays, columns=aprox_list)\n",
    "    display(df)\n",
    "    \n",
    "def print_table_gprog():\n",
    "    return void"
   ]
  },
  {
   "cell_type": "code",
   "execution_count": 32,
   "metadata": {
    "tags": [
     "hide_input"
    ]
   },
   "outputs": [],
   "source": [
    "#FUNCTIONS\n",
    "#returns the analise\n",
    "def analise(matrix_size, folder, config, check_tags):\n",
    "    \n",
    "    #new matrix according dropdown\n",
    "    matrix = Matrix(matrix_size)\n",
    "    \n",
    "    #find all aproximations for the matrix and fill object\n",
    "    aproximations_list = list_aproximations(matrix_size, \"-\",folder)\n",
    "\n",
    "    for aproximation in aproximations_list:\n",
    "        aprox_type = aproximation.split(\"-\")[2]\n",
    "        aprox_folder = folder + aproximation + \"/\"\n",
    "        \n",
    "        #new object Aproximation\n",
    "        aprox = Aproximation(matrix_size, aprox_type, aprox_folder)\n",
    "        \n",
    "        #fill aproximation videos list\n",
    "        videos_list = list_videos(aprox.get_path())\n",
    "        for item in videos_list:\n",
    "            video = Video(item, aprox.get_path() + item + '/')  \n",
    "            \n",
    "            #fill logs for the video\n",
    "            configs_list = os.listdir(aprox.get_path() + item + '/')\n",
    "            for item_config in configs_list:\n",
    "                video.add_logs(item_config)\n",
    "            \n",
    "            aprox.add_video(video)\n",
    "                    \n",
    "        #add video to matrix\n",
    "        matrix.add_aprox(aprox)\n",
    "        \n",
    "    #add precise version\n",
    "    path_precise = folder + \"Precise/\"\n",
    "    matrix.add_aprox(analise_precise(matrix_size, path_precise,config))\n",
    "    \n",
    "    print_table_vvc(matrix, videos_list, config, check_tags)\n",
    "\n",
    "    \n",
    "#analise precise\n",
    "def analise_precise(matrix_size, folder, config):\n",
    "    #new object Aproximation\n",
    "    precise = Aproximation(matrix_size, \"Precise\", folder)\n",
    "        \n",
    "    #fill aproximation videos list\n",
    "    videos_list = list_videos(precise.get_path())\n",
    "    for item in videos_list:\n",
    "        video = Video(item, precise.get_path() + item + '/')  \n",
    "            \n",
    "        #fill logs for the video\n",
    "        configs_list = os.listdir(precise.get_path() + item + '/')\n",
    "        for item_config in configs_list:\n",
    "            video.add_logs(item_config)\n",
    "        precise.add_video(video)\n",
    "    return precise\n",
    "                    \n",
    "    \n",
    "    "
   ]
  },
  {
   "cell_type": "code",
   "execution_count": 33,
   "metadata": {
    "tags": [
     "hide_input"
    ]
   },
   "outputs": [],
   "source": [
    "#FUNCTIONS BUTTON\n",
    "\n",
    "#geral\n",
    "def on_button_clear_click(b):\n",
    "    clear_output()\n",
    "    analise_vvc_print()\n",
    "#vvc\n",
    "def on_button_print_click(b):\n",
    "    #listando todos os videos dentro das pastas das aproximacoes do valor aproximado\n",
    "    ##AJUSTAR DEPOIS \n",
    "    check_tags = []\n",
    "    if box1.value == True:\n",
    "        check_tags.append(box1.description)\n",
    "    if box2.value == True:\n",
    "        check_tags.append(box2.description)\n",
    "    if box3.value == True:\n",
    "        check_tags.append(box3.description)\n",
    "\n",
    "    analise(dropdown.value, VVCLOG_DIR, \"AI\",check_tags)  \n",
    "    \n",
    "\n",
    " "
   ]
  },
  {
   "cell_type": "code",
   "execution_count": 34,
   "metadata": {
    "scrolled": false,
    "tags": [
     "hide_input"
    ]
   },
   "outputs": [],
   "source": [
    "# widgets VVC \n",
    "def analise_vvc_print():\n",
    "    display(HTML(\"<h2>Analise VVC</h2>\"))\n",
    "    display(dropdown, container, buttons)\n",
    "\n",
    "#widgets GPROF\n",
    "def analise_gprof_print():\n",
    "    display(HTML(\"<h1> Analise GPROF</h1>\"))\n",
    "    "
   ]
  },
  {
   "cell_type": "code",
   "execution_count": 35,
   "metadata": {
    "scrolled": true,
    "tags": [
     "hide_input"
    ]
   },
   "outputs": [],
   "source": [
    "# ELEMENTS \n",
    "# Dropdown\n",
    "options_drop = list_matrices(\"-\", VVCLOG_DIR)\n",
    "options_drop.remove(\"Precise\")\n",
    "options_drop.sort()\n",
    "\n",
    "dropdown = widgets.Dropdown(options=options_drop)\n",
    "\n",
    "# Buttons\n",
    "botao = widgets.Button(description='Imprimir')\n",
    "botao.on_click(on_button_print_click)\n",
    "\n",
    "botao_clear = widgets.Button(description='Clear')\n",
    "botao_clear.on_click(on_button_clear_click)\n",
    "\n",
    "buttons = widgets.HBox([botao, botao_clear])\n",
    "\n",
    "# Selection\n",
    "box1 = widgets.Checkbox(\n",
    "    description='Time',\n",
    "    disabled=False,\n",
    "    layout=widgets.Layout(width='auto', margin='5px'),\n",
    "    style={'description_width': 'initial'}\n",
    ")\n",
    "box2 = widgets.Checkbox(\n",
    "    description='Bitrate',\n",
    "    indent=False,\n",
    "    disabled=False,\n",
    "    layout=widgets.Layout(width='auto', margin ='5px'),\n",
    "    style={'description_width': 'initial'}\n",
    ")\n",
    "box3 = widgets.Checkbox(\n",
    "    description='PSNR',\n",
    "    indent=False,\n",
    "    disabled=False,\n",
    "    layout=widgets.Layout(width='auto', margin='5px'),\n",
    "    style={'description_width': 'initial'}\n",
    ")\n",
    "\n",
    "#caixa4 = widgets.Checkbox(description='BD-rate')\n",
    "\n",
    "\n",
    "    \n",
    "container = widgets.HBox([box1, box2, box3])"
   ]
  },
  {
   "cell_type": "code",
   "execution_count": 36,
   "metadata": {
    "scrolled": false
   },
   "outputs": [
    {
     "data": {
      "text/html": [
       "<h2>Analise VVC</h2>"
      ],
      "text/plain": [
       "<IPython.core.display.HTML object>"
      ]
     },
     "metadata": {},
     "output_type": "display_data"
    },
    {
     "data": {
      "application/vnd.jupyter.widget-view+json": {
       "model_id": "bb566d2451f64a559fc6f5ba2e7f22a6",
       "version_major": 2,
       "version_minor": 0
      },
      "text/plain": [
       "Dropdown(index=3, options=('16x8', '4x8', '8x16', '8x4'), value='8x4')"
      ]
     },
     "metadata": {},
     "output_type": "display_data"
    },
    {
     "data": {
      "application/vnd.jupyter.widget-view+json": {
       "model_id": "57085696021e46349fbd9d2ad3c8312f",
       "version_major": 2,
       "version_minor": 0
      },
      "text/plain": [
       "HBox(children=(Checkbox(value=True, description='Time', layout=Layout(margin='5px', width='auto'), style=Check…"
      ]
     },
     "metadata": {},
     "output_type": "display_data"
    },
    {
     "data": {
      "application/vnd.jupyter.widget-view+json": {
       "model_id": "0cec06366f084e72b74b001045897ede",
       "version_major": 2,
       "version_minor": 0
      },
      "text/plain": [
       "HBox(children=(Button(description='Imprimir', style=ButtonStyle()), Button(description='Clear', style=ButtonSt…"
      ]
     },
     "metadata": {},
     "output_type": "display_data"
    }
   ],
   "source": [
    "# MAIN\n",
    "analise_vvc_print()\n"
   ]
  }
 ],
 "metadata": {
  "kernelspec": {
   "display_name": "Python 3 (ipykernel)",
   "language": "python",
   "name": "python3"
  },
  "language_info": {
   "codemirror_mode": {
    "name": "ipython",
    "version": 3
   },
   "file_extension": ".py",
   "mimetype": "text/x-python",
   "name": "python",
   "nbconvert_exporter": "python",
   "pygments_lexer": "ipython3",
   "version": "3.11.2"
  }
 },
 "nbformat": 4,
 "nbformat_minor": 1
}
